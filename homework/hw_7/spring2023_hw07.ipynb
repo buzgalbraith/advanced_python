{
 "cells": [
  {
   "cell_type": "code",
   "execution_count": 16,
   "metadata": {},
   "outputs": [],
   "source": [
    "import numpy as np \n",
    "from functools import partial \n",
    "from concurrent.futures import ThreadPoolExecutor \n",
    "from queue import Queue\n",
    "from threading import Thread\n",
    "from threading import Lock\n",
    "from multiprocessing.pool import Pool\n",
    "from functools import partial \n",
    "from concurrent.futures import ThreadPoolExecutor "
   ]
  },
  {
   "attachments": {},
   "cell_type": "markdown",
   "metadata": {},
   "source": [
    "### Homework 07: Concurrency\n",
    "\n",
    "## Due Date: Apr 5, 2023, 11:59pm\n",
    "\n",
    "#### Firstname Lastname: Buz Galbraith\n",
    "\n",
    "#### E-mail: wbg231@nyu.edu\n",
    "\n",
    "#### Enter your solutions and submit this notebook\n"
   ]
  },
  {
   "cell_type": "markdown",
   "metadata": {},
   "source": [
    "---\n",
    "\n",
    "**Problem 1** **(60 Points)**\n",
    "\n",
    "Let us consider the Gamma function, or the Euler integral of the second kind: \n",
    "\n",
    "$$\\Gamma(x) = \\int_{0} ^ \\infty t ^{x - 1} e^{-t} dt, $$\n",
    "\n",
    "and in this HW we consider real $x > 0$."
   ]
  },
  {
   "cell_type": "markdown",
   "metadata": {},
   "source": [
    "(Here is more on the Gamma function https://en.wikipedia.org/wiki/Gamma_function .\n",
    "It is not needed for this HW assignment.) "
   ]
  },
  {
   "cell_type": "markdown",
   "metadata": {},
   "source": [
    "**1.1 (Points 15)**: \n",
    "\n",
    "Write a function (in the cell below) that sequentially calculates the given Gamma integral.\n"
   ]
  },
  {
   "cell_type": "code",
   "execution_count": 2,
   "metadata": {},
   "outputs": [],
   "source": [
    "def calculate_gamma(x, bound_1, bound_2, number_of_steps):\n",
    "    # sequential version to calculate Gamma(x):\n",
    "    # where we approximate the given integral,\n",
    "    # like this a discrete sum in number_of_steps\n",
    "    # equidistant points on the interval [bound_1, bound_2]\n",
    "    # return Gamma(x)\n",
    "    t=np.linspace(bound_1, bound_2, number_of_steps)\n",
    "    term_1=np.exp(-1*t)\n",
    "    term_2=np.multiply.reduce([t] * (x-1))\n",
    "    dt=t[1]-t[0]\n",
    "    out=np.sum(term_1*term_2)*dt\n",
    "    return out\n",
    "\n"
   ]
  },
  {
   "cell_type": "markdown",
   "metadata": {},
   "source": [
    "**1.2 (Points 5)** \n",
    "\n",
    "Evaluate, $\\Gamma(6)$ by using `calculate_gamma(x, bound_1, bound_2, number_of_steps)` and the error of this computation.\n",
    "\n",
    "\n",
    "As arguments, use `x=6, bound_1=0, bound_2=1000, number_of_steps=10_000_000`. We know that $\\Gamma(x) = x!$, so $\\Gamma(6) = 5! = 120$. \n"
   ]
  },
  {
   "cell_type": "code",
   "execution_count": 3,
   "metadata": {},
   "outputs": [
    {
     "name": "stdout",
     "output_type": "stream",
     "text": [
      "My function aproximates the given function call as 120.00000000000006\n",
      "this results in an error of -5.684341886080802e-14\n"
     ]
    }
   ],
   "source": [
    "x=6\n",
    "bound_1=0 \n",
    "bound_2=1000\n",
    "number_of_steps=10_000_000\n",
    "\n",
    "arpoxmiation=calculate_gamma(x, bound_1, bound_2, number_of_steps)\n",
    "error=120-arpoxmiation\n",
    "print(\"My function aproximates the given function call as {0}\\n\\\n",
    "this results in an error of {1}\".format(arpoxmiation, error))\n"
   ]
  },
  {
   "attachments": {},
   "cell_type": "markdown",
   "metadata": {},
   "source": [
    "---\n",
    "\n",
    "Write two functions to calculate $\\Gamma(x)$ by using:\n",
    "\n",
    "\n",
    "\n",
    "**1.3.1 (Points 15)**\n",
    "**threading** with N=4 threads; \n",
    "\n",
    "\n",
    "\n",
    "    "
   ]
  },
  {
   "cell_type": "code",
   "execution_count": 4,
   "metadata": {},
   "outputs": [
    {
     "data": {
      "text/plain": [
       "120.00000000000003"
      ]
     },
     "execution_count": 4,
     "metadata": {},
     "output_type": "execute_result"
    }
   ],
   "source": [
    "y=0\n",
    "def calc_gamma_chunk(q,x,n_chunk_steps, lock):\n",
    "    while True:\n",
    "        bound_1_chunk, bound_2_chunk = q.get()\n",
    "        t_chunk=np.linspace(bound_1_chunk, bound_2_chunk, n_chunk_steps)\n",
    "        global y\n",
    "        with lock:  # force synchronization\n",
    "            dt=t_chunk[1]-t_chunk[0]\n",
    "            term_1=np.exp(-1*t_chunk)\n",
    "            term_2=np.multiply.reduce([t_chunk] * (x-1))\n",
    "            y = y+np.sum(term_1*term_2)*dt\n",
    "            q.task_done()\n",
    "def multi_thread_gamma(x,bound_1, bound_2,number_of_steps,num_threads):\n",
    "    chunks = [(i, i + 100) for i in range(bound_1, bound_2, 100)] ## defines so we can work across smaller ranges of length 100. \n",
    "    lock = Lock()\n",
    "    q = Queue()\n",
    "    for chunk in chunks:\n",
    "        q.put(chunk)\n",
    "    n_chunk_steps=number_of_steps//len(chunks)\n",
    "    for i in range(num_threads):\n",
    "        worker = Thread(target=calc_gamma_chunk, args=(q,x,n_chunk_steps, lock))\n",
    "        worker.daemon=True # this stop the threads when the program quits  \n",
    "        worker.start()         # start the threads\n",
    "    q.join()\n",
    "x=6\n",
    "bound_1=0 \n",
    "bound_2=1000\n",
    "number_of_steps=10_000_000\n",
    "\n",
    "multi_thread_gamma(x,bound_1, bound_2,number_of_steps,4)\n",
    "\n",
    "y"
   ]
  },
  {
   "attachments": {},
   "cell_type": "markdown",
   "metadata": {},
   "source": [
    "**1.3.2 (Points 15)**\n",
    "**multiprocessing** with N=4 processes. \n",
    "\n"
   ]
  },
  {
   "cell_type": "code",
   "execution_count": 5,
   "metadata": {},
   "outputs": [
    {
     "data": {
      "text/plain": [
       "120.00000000000003"
      ]
     },
     "execution_count": 5,
     "metadata": {},
     "output_type": "execute_result"
    }
   ],
   "source": [
    "def calc_gamma_chunk_multiprocess(x,n_chunk_steps, bound_1_chunk, bound_2_chunk):\n",
    "    t_chunk=np.linspace(bound_1_chunk, bound_2_chunk, n_chunk_steps)\n",
    "    dt=t_chunk[1]-t_chunk[0]\n",
    "    term_1=np.exp(-1*t_chunk)\n",
    "    term_2=np.multiply.reduce([t_chunk] * (x-1))\n",
    "    return np.sum(term_1*term_2)*dt\n",
    "def multi_process_gamma(x, bound_1, bound_2, number_of_steps, number_processors):\n",
    "    chunks = [(i, i + 100) for i in range(bound_1, bound_2, 100)]\n",
    "    n_chunk_steps=number_of_steps//len(chunks)\n",
    "    gamma = partial(calc_gamma_chunk_multiprocess,x, n_chunk_steps )\n",
    "    with Pool(number_processors) as p:\n",
    "        results=p.starmap(gamma,chunks)\n",
    "    return np.sum(results)\n",
    "x=6\n",
    "bound_1=0 \n",
    "bound_2=1000\n",
    "number_of_steps=10_000_000\n",
    "\n",
    "multi_process_gamma(x,bound_1, bound_2,number_of_steps,4)\n"
   ]
  },
  {
   "attachments": {},
   "cell_type": "markdown",
   "metadata": {},
   "source": [
    "**1.3.3 (Points 10)** \n",
    "Compare the times of the three versions and write a short explanation of what you are observing.\n"
   ]
  },
  {
   "attachments": {},
   "cell_type": "markdown",
   "metadata": {},
   "source": [
    "How does the answer change when N=8 and why?"
   ]
  },
  {
   "cell_type": "code",
   "execution_count": 6,
   "metadata": {},
   "outputs": [
    {
     "name": "stdout",
     "output_type": "stream",
     "text": [
      "477 ms ± 12.8 ms per loop (mean ± std. dev. of 7 runs, 20 loops each)\n"
     ]
    }
   ],
   "source": [
    "%timeit -n 5 calculate_gamma(x, bound_1, bound_2, number_of_steps)"
   ]
  },
  {
   "cell_type": "code",
   "execution_count": 7,
   "metadata": {},
   "outputs": [
    {
     "name": "stdout",
     "output_type": "stream",
     "text": [
      "467 ms ± 13.2 ms per loop (mean ± std. dev. of 7 runs, 5 loops each)\n"
     ]
    }
   ],
   "source": [
    "%timeit -n 5 multi_thread_gamma(x,bound_1, bound_2,number_of_steps,4)"
   ]
  },
  {
   "cell_type": "code",
   "execution_count": 8,
   "metadata": {},
   "outputs": [
    {
     "name": "stdout",
     "output_type": "stream",
     "text": [
      "263 ms ± 7.4 ms per loop (mean ± std. dev. of 7 runs, 5 loops each)\n"
     ]
    }
   ],
   "source": [
    "%timeit -n 5 multi_process_gamma(x,bound_1, bound_2,number_of_steps,4)\n"
   ]
  },
  {
   "cell_type": "code",
   "execution_count": 9,
   "metadata": {},
   "outputs": [
    {
     "name": "stdout",
     "output_type": "stream",
     "text": [
      "473 ms ± 14.4 ms per loop (mean ± std. dev. of 7 runs, 5 loops each)\n"
     ]
    }
   ],
   "source": [
    "%timeit -n 5 multi_thread_gamma(x,bound_1, bound_2,number_of_steps,8)"
   ]
  },
  {
   "cell_type": "code",
   "execution_count": 10,
   "metadata": {},
   "outputs": [
    {
     "name": "stdout",
     "output_type": "stream",
     "text": [
      "434 ms ± 19 ms per loop (mean ± std. dev. of 7 runs, 5 loops each)\n"
     ]
    }
   ],
   "source": [
    "%timeit -n 5 multi_process_gamma(x,bound_1, bound_2,number_of_steps,8)"
   ]
  },
  {
   "attachments": {},
   "cell_type": "markdown",
   "metadata": {},
   "source": [
    "as we can see from the above runs:\n",
    "- the single core/thread version of the code seems to be the slowest. \n",
    "- the mutli thread version performs at about the same level as the first approach, and often has higher variance \n",
    "- the mitli processor approach is substantially faster than the other two. \n",
    "- further we an see increasing the number of threads to 8 increases the run time slightly\n",
    "    - this is likely happening because this is a cpu bound task, that is we are only doing computation not any communication so breaking the program up over our cpu cores will yield some \n",
    "    benefit while as python GIL does not allow for actual parallelism adding threads will not really increase performance as the issue is computation time not communication time.  \n",
    "- while increasing the processor core count to 8 greatly increases the run time \n",
    "    - this likely happens as my cpu does not seem to have 8 free cores, so trying to make the program run with that number of cores, will result in multiple workers running on the same cpu resources. this especially makes sense as we are dealing with a cpu bound task which is computationally expensive. "
   ]
  },
  {
   "cell_type": "markdown",
   "metadata": {},
   "source": [
    "---\n",
    "\n",
    "**Problem 2 (40 points)**\n",
    "\n",
    "__Website uptime__ is the time that a website or web service is available to the users over a given period.\n",
    "\n",
    "The task is to build an application that checks the uptime of websites. \n",
    "\n",
    "- The application should go over a list of website URLs and checks if those websites are up.\n",
    "- Instead of performing a classic HTTP GET request, it performs a HEAD request so that it does not affect traffic significantly.\n",
    "- If the HTTP status is in the danger ranges (400+, 500+), a message is casted. \n",
    "\n",
    "Here are some useful functions:"
   ]
  },
  {
   "cell_type": "code",
   "execution_count": 22,
   "metadata": {},
   "outputs": [],
   "source": [
    "#### _website uptimer_ ####\n",
    "\n",
    "import time\n",
    "import logging\n",
    "import requests\n",
    " \n",
    "class WebsiteDownException(Exception):\n",
    "    pass\n",
    " \n",
    "def ping_website(address, timeout=20):\n",
    "    \"\"\"\n",
    "    Check if a website is down. A website is considered down \n",
    "    if either the status_code >= 400 or if the timeout expires\n",
    "     \n",
    "    Throw a WebsiteDownException if any of the website down conditions are met\n",
    "    \"\"\"\n",
    "    try:\n",
    "        response = requests.head(address, timeout=timeout)\n",
    "        if response.status_code >= 400:\n",
    "            logging.warning(\"Website %s returned status_code=%s\" % (address, response.status_code))\n",
    "            raise WebsiteDownException()\n",
    "    except requests.exceptions.RequestException:\n",
    "        logging.warning(\"Timeout expired for website %s\" % address)\n",
    "        raise WebsiteDownException()\n",
    "         \n",
    "def check_website(address):\n",
    "    \"\"\"\n",
    "    Utility function: check if a website is down, if so, notify the user\n",
    "    \"\"\"\n",
    "    try:\n",
    "        ping_website(address)\n",
    "    except WebsiteDownException:\n",
    "        print('The websie ' + address + ' is down')"
   ]
  },
  {
   "cell_type": "markdown",
   "metadata": {},
   "source": [
    "---\n",
    "\n",
    "You need a website list to try our system out. Create your own list or use the following one. \n",
    "\n",
    "---"
   ]
  },
  {
   "cell_type": "code",
   "execution_count": 12,
   "metadata": {},
   "outputs": [],
   "source": [
    "WEBSITE_LIST = [\n",
    "    'http://amazon.co.uk',\n",
    "    'http://amazon.com',\n",
    "    'http://facebook.com',\n",
    "    'http://google.com',\n",
    "    'http://google.fr',\n",
    "    'http://google.es',\n",
    "    'http://google.co.uk',\n",
    "    'http://gmail.com',\n",
    "    'http://stackoverflow.com',\n",
    "    'http://github.com',\n",
    "    'http://heroku.com',\n",
    "    'http://really-cool-available-domain.com',\n",
    "    'http://djangoproject.com',\n",
    "    'http://rubyonrails.org',\n",
    "    'http://basecamp.com',\n",
    "    'http://trello.com',\n",
    "    'http://shopify.com',\n",
    "    'http://another-really-interesting-domain.co',\n",
    "    'http://airbnb.com',\n",
    "    'http://instagram.com',\n",
    "    'http://snapchat.com',\n",
    "    'http://youtube.com',\n",
    "    'http://baidu.com',\n",
    "    'http://yahoo.com',\n",
    "    'http://live.com',\n",
    "    'http://linkedin.com',\n",
    "    'http://netflix.com',\n",
    "    'http://wordpress.com',\n",
    "    'http://bing.com',\n",
    "]"
   ]
  },
  {
   "cell_type": "markdown",
   "metadata": {},
   "source": [
    "---\n",
    "\n",
    "A serial version of the _website uptimer_ can be written as: \n",
    "\n",
    "---\n"
   ]
  },
  {
   "cell_type": "code",
   "execution_count": 32,
   "metadata": {},
   "outputs": [
    {
     "name": "stderr",
     "output_type": "stream",
     "text": [
      "WARNING:root:Timeout expired for website http://really-cool-available-domain.com\n"
     ]
    },
    {
     "name": "stdout",
     "output_type": "stream",
     "text": [
      "The websie http://really-cool-available-domain.com is down\n"
     ]
    },
    {
     "name": "stderr",
     "output_type": "stream",
     "text": [
      "WARNING:root:Timeout expired for website http://another-really-interesting-domain.co\n"
     ]
    },
    {
     "name": "stdout",
     "output_type": "stream",
     "text": [
      "The websie http://another-really-interesting-domain.co is down\n",
      "Time for Serial: 4.164453744888306secs\n"
     ]
    }
   ],
   "source": [
    "import time\n",
    " \n",
    "start_time = time.time()\n",
    " \n",
    "for address in WEBSITE_LIST:\n",
    "    check_website(address)\n",
    "         \n",
    "end_time = time.time()        \n",
    " \n",
    "print(\"Time for Serial: %ssecs\" % (end_time - start_time))\n",
    "def serial_check_website(website_list):\n",
    "    for address in website_list:\n",
    "        check_website(address)"
   ]
  },
  {
   "attachments": {},
   "cell_type": "markdown",
   "metadata": {},
   "source": [
    "You should build two versions of the **website uptimer**, by using:\n",
    "\n",
    "**2.1 (Points 15)**\n",
    "**threading** with N=4 threads; \n",
    "\n",
    "\n"
   ]
  },
  {
   "attachments": {},
   "cell_type": "markdown",
   "metadata": {},
   "source": [
    "- here i wrote two functions too do this. one using a queue the other using and thread pool executor. They seem to be pretty equivalent especially since there is no risk of the function not being thread safe since we are not writing the output to anywhere. "
   ]
  },
  {
   "cell_type": "code",
   "execution_count": 28,
   "metadata": {},
   "outputs": [
    {
     "name": "stderr",
     "output_type": "stream",
     "text": [
      "WARNING:root:Timeout expired for website http://really-cool-available-domain.com\n",
      "WARNING:root:Timeout expired for website http://another-really-interesting-domain.co\n"
     ]
    },
    {
     "name": "stdout",
     "output_type": "stream",
     "text": [
      "The websie http://really-cool-available-domain.com is down\n",
      "The websie http://another-really-interesting-domain.co is down\n"
     ]
    }
   ],
   "source": [
    "def threaded_check_websites_down(website_list, n_threads):\n",
    "        with ThreadPoolExecutor(max_workers=n_threads) as ex:\n",
    "                ex.map(check_website, website_list)\n",
    "threaded_check_websites_down(WEBSITE_LIST, 4)"
   ]
  },
  {
   "cell_type": "code",
   "execution_count": 29,
   "metadata": {},
   "outputs": [
    {
     "name": "stderr",
     "output_type": "stream",
     "text": [
      "WARNING:root:Timeout expired for website http://really-cool-available-domain.com\n",
      "WARNING:root:Timeout expired for website http://another-really-interesting-domain.co\n"
     ]
    },
    {
     "name": "stdout",
     "output_type": "stream",
     "text": [
      "The websie http://really-cool-available-domain.com is down\n",
      "The websie http://another-really-interesting-domain.co is down\n"
     ]
    }
   ],
   "source": [
    "def check_website_thread(q):\n",
    "    while True:\n",
    "        adress = q.get()\n",
    "        check_website(adress)\n",
    "        q.task_done()\n",
    "def threaded_check_websites_down_2(website_list, num_threads):\n",
    "    q = Queue()\n",
    "    for address in website_list:\n",
    "        q.put(address)\n",
    "    for i in range(num_threads):\n",
    "        worker = Thread(target=check_website_thread, args=(q,))\n",
    "        worker.daemon=True # this stop the threads when the program quits  \n",
    "        worker.start()         # start the threads\n",
    "    q.join()\n",
    "\n",
    "threaded_check_websites_down_2(WEBSITE_LIST, 4)"
   ]
  },
  {
   "attachments": {},
   "cell_type": "markdown",
   "metadata": {},
   "source": [
    "**2.2 (Points 15)**\n",
    "**multiprocessing** with N=4 processes. \n",
    "\n"
   ]
  },
  {
   "cell_type": "code",
   "execution_count": 31,
   "metadata": {},
   "outputs": [
    {
     "name": "stderr",
     "output_type": "stream",
     "text": [
      "WARNING:root:Timeout expired for website http://really-cool-available-domain.com\n"
     ]
    },
    {
     "name": "stdout",
     "output_type": "stream",
     "text": [
      "The websie http://really-cool-available-domain.com is down\n"
     ]
    },
    {
     "name": "stderr",
     "output_type": "stream",
     "text": [
      "WARNING:root:Timeout expired for website http://another-really-interesting-domain.co\n"
     ]
    },
    {
     "name": "stdout",
     "output_type": "stream",
     "text": [
      "The websie http://another-really-interesting-domain.co is down\n"
     ]
    }
   ],
   "source": [
    "def check_website_multi_process(website_list, n_threads):\n",
    "    with Pool(n_threads) as p: \n",
    "        p.map(check_website, website_list) \n",
    "\n",
    "check_website_multi_process(WEBSITE_LIST, 4)"
   ]
  },
  {
   "attachments": {},
   "cell_type": "markdown",
   "metadata": {},
   "source": [
    "**2.3 (Points 10)** \n",
    "\n",
    "Compare the times of the three versions and write a short explanation of what you are observing.\n",
    "\n",
    "How does the answer change when N=8 and why?"
   ]
  },
  {
   "attachments": {},
   "cell_type": "markdown",
   "metadata": {},
   "source": [
    "- here i am just going to report the timeit magic in markdown since calling these functions many time results in a lot of messy print statements"
   ]
  },
  {
   "cell_type": "code",
   "execution_count": null,
   "metadata": {},
   "outputs": [],
   "source": [
    "%timeit -n 10 serial_check_website(WEBSITE_LIST)"
   ]
  },
  {
   "attachments": {},
   "cell_type": "markdown",
   "metadata": {},
   "source": [
    "2.79 s ± 96 ms per loop (mean ± std. dev. of 7 runs, 5 loops each)"
   ]
  },
  {
   "cell_type": "code",
   "execution_count": null,
   "metadata": {},
   "outputs": [],
   "source": [
    "%timeit -n 10 threaded_check_websites_down(WEBSITE_LIST, 4)"
   ]
  },
  {
   "attachments": {},
   "cell_type": "markdown",
   "metadata": {},
   "source": [
    "1.06 s ± 71.1 ms per loop (mean ± std. dev. of 7 runs, 10 loops each)"
   ]
  },
  {
   "cell_type": "code",
   "execution_count": null,
   "metadata": {},
   "outputs": [],
   "source": [
    "%timeit -n 10 threaded_check_websites_down_2(WEBSITE_LIST, 4)"
   ]
  },
  {
   "attachments": {},
   "cell_type": "markdown",
   "metadata": {},
   "source": [
    "1.12 s ± 142 ms per loop (mean ± std. dev. of 7 runs, 10 loops each)"
   ]
  },
  {
   "cell_type": "code",
   "execution_count": null,
   "metadata": {},
   "outputs": [],
   "source": [
    "%timeit -n 10 check_website_multi_process(WEBSITE_LIST, 4)"
   ]
  },
  {
   "attachments": {},
   "cell_type": "markdown",
   "metadata": {},
   "source": [
    "1.24 s ± 59.1 ms per loop (mean ± std. dev. of 7 runs, 10 loops each)"
   ]
  },
  {
   "cell_type": "code",
   "execution_count": null,
   "metadata": {},
   "outputs": [],
   "source": [
    "%timeit -n 10 threaded_check_websites_down(WEBSITE_LIST, 8)"
   ]
  },
  {
   "attachments": {},
   "cell_type": "markdown",
   "metadata": {},
   "source": [
    "1 s ± 544 ms per loop (mean ± std. dev. of 7 runs, 10 loops each)"
   ]
  },
  {
   "cell_type": "code",
   "execution_count": null,
   "metadata": {},
   "outputs": [],
   "source": [
    "%timeit -n 10 threaded_check_websites_down_2(WEBSITE_LIST, 8)"
   ]
  },
  {
   "attachments": {},
   "cell_type": "markdown",
   "metadata": {},
   "source": [
    "1.26 s ± 498 ms per loop (mean ± std. dev. of 7 runs, 10 loops each"
   ]
  },
  {
   "cell_type": "code",
   "execution_count": null,
   "metadata": {},
   "outputs": [],
   "source": [
    "%timeit -n 10 check_website_multi_process(WEBSITE_LIST, 8)"
   ]
  },
  {
   "attachments": {},
   "cell_type": "markdown",
   "metadata": {},
   "source": [
    "1.08 s ± 24.9 ms per loop (mean ± std. dev. of 7 runs, 10 loops each)"
   ]
  },
  {
   "attachments": {},
   "cell_type": "markdown",
   "metadata": {},
   "source": [
    "as can be seen from the results above: \n",
    "- the serial version is the slowest of any version including those using 4 or 8 threads/processors \n",
    "- either of the threaded implementations work better than either the serial or multiprocessor approaches \n",
    "- the multiprocessor approach results in a slight speed up over the serial approach but is slower than the threaded approach. \n",
    "        - this is likely the case as this task is io bound so increasing the number of threads will increase the speed as we are sending more requests at the same time as opposed to waiting for the website to respond before moving on. in contrast, increasing the number of cpu's was not effective at reducing run time, as this is not a cpu intensive task and increasing the number of cpus will not speed up the io time. \n",
    "- increasing the number of processors or core count to 8 results in minor speed ups in most cases (there is high variance though so it is kind of hard to tell) \n",
    "    - it seems that increasing the number of cores (if there are more available ) should increase the speed as this is an io bound task, where a lot of the run time is dedicated to communicating with websites, alternatively if there are not enough cpu rearouses available than there could be a slow down as tasks are being subdivided beyond the point of increasing returns given the same number of the cpu rearouses. \n"
   ]
  }
 ],
 "metadata": {
  "kernelspec": {
   "display_name": "Python 3 (ipykernel)",
   "language": "python",
   "name": "python3"
  },
  "language_info": {
   "codemirror_mode": {
    "name": "ipython",
    "version": 3
   },
   "file_extension": ".py",
   "mimetype": "text/x-python",
   "name": "python",
   "nbconvert_exporter": "python",
   "pygments_lexer": "ipython3",
   "version": "3.10.9"
  }
 },
 "nbformat": 4,
 "nbformat_minor": 2
}
