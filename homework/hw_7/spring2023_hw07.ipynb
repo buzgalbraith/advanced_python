{
 "cells": [
  {
   "cell_type": "code",
   "execution_count": 66,
   "metadata": {},
   "outputs": [],
   "source": [
    "import numpy as np \n",
    "from functools import partial \n",
    "from concurrent.futures import ThreadPoolExecutor \n",
    "from queue import Queue\n",
    "from threading import Thread\n",
    "from threading import Lock\n"
   ]
  },
  {
   "attachments": {},
   "cell_type": "markdown",
   "metadata": {},
   "source": [
    "### Homework 07: Concurrency\n",
    "\n",
    "## Due Date: Apr 5, 2023, 11:59pm\n",
    "\n",
    "#### Firstname Lastname: Buz Galbraith\n",
    "\n",
    "#### E-mail: wbg231@nyu.edu\n",
    "\n",
    "#### Enter your solutions and submit this notebook\n"
   ]
  },
  {
   "cell_type": "markdown",
   "metadata": {},
   "source": [
    "---\n",
    "\n",
    "**Problem 1** **(60 Points)**\n",
    "\n",
    "Let us consider the Gamma function, or the Euler integral of the second kind: \n",
    "\n",
    "$$\\Gamma(x) = \\int_{0} ^ \\infty t ^{x - 1} e^{-t} dt, $$\n",
    "\n",
    "and in this HW we consider real $x > 0$."
   ]
  },
  {
   "cell_type": "markdown",
   "metadata": {},
   "source": [
    "(Here is more on the Gamma function https://en.wikipedia.org/wiki/Gamma_function .\n",
    "It is not needed for this HW assignment.) "
   ]
  },
  {
   "cell_type": "markdown",
   "metadata": {},
   "source": [
    "**1.1 (Points 15)**: \n",
    "\n",
    "Write a function (in the cell below) that sequentially calculates the given Gamma integral.\n"
   ]
  },
  {
   "cell_type": "code",
   "execution_count": 133,
   "metadata": {},
   "outputs": [],
   "source": [
    "def calculate_gamma(x, bound_1, bound_2, number_of_steps):\n",
    "    # sequential version to calculate Gamma(x):\n",
    "    # where we approximate the given integral,\n",
    "    # like this a discrete sum in number_of_steps\n",
    "    # equidistant points on the interval [bound_1, bound_2]\n",
    "    # return Gamma(x)\n",
    "    dt=((bound_2-bound_1)/number_of_steps)\n",
    "    t=np.linspace(bound_1, bound_2, number_of_steps)\n",
    "    term_1=np.exp(-1*t)\n",
    "    term_2=np.multiply.reduce([t] * (x-1))\n",
    "    dt=t[1]-t[0]\n",
    "    print(dt)\n",
    "    out=np.sum(term_1*term_2)*dt\n",
    "    return out\n",
    "\n"
   ]
  },
  {
   "cell_type": "markdown",
   "metadata": {},
   "source": [
    "**1.2 (Points 5)** \n",
    "\n",
    "Evaluate, $\\Gamma(6)$ by using `calculate_gamma(x, bound_1, bound_2, number_of_steps)` and the error of this computation.\n",
    "\n",
    "\n",
    "As arguments, use `x=6, bound_1=0, bound_2=1000, number_of_steps=10_000_000`. We know that $\\Gamma(x) = x!$, so $\\Gamma(6) = 5! = 120$. \n"
   ]
  },
  {
   "cell_type": "code",
   "execution_count": 134,
   "metadata": {},
   "outputs": [
    {
     "name": "stdout",
     "output_type": "stream",
     "text": [
      "0.000100000010000001\n",
      "My function aproximates the given function call as 120.00000000000006\n",
      "this results in an error of -5.684341886080802e-14\n"
     ]
    }
   ],
   "source": [
    "x=6\n",
    "bound_1=0 \n",
    "bound_2=1000\n",
    "number_of_steps=10_000_000\n",
    "\n",
    "arpoxmiation=calculate_gamma(x, bound_1, bound_2, number_of_steps)\n",
    "error=120-arpoxmiation\n",
    "print(\"My function aproximates the given function call as {0}\\n\\\n",
    "this results in an error of {1}\".format(arpoxmiation, error))\n"
   ]
  },
  {
   "attachments": {},
   "cell_type": "markdown",
   "metadata": {},
   "source": [
    "---\n",
    "\n",
    "Write two functions to calculate $\\Gamma(x)$ by using:\n",
    "\n",
    "\n",
    "\n",
    "**1.3.1 (Points 15)**\n",
    "**threading** with N=4 threads; \n",
    "\n",
    "\n",
    "\n",
    "    "
   ]
  },
  {
   "cell_type": "code",
   "execution_count": 139,
   "metadata": {},
   "outputs": [
    {
     "data": {
      "text/plain": [
       "120.00000000000003"
      ]
     },
     "execution_count": 139,
     "metadata": {},
     "output_type": "execute_result"
    }
   ],
   "source": [
    "chunks = [(i, i + 100) for i in range(bound_1, bound_2, 100)] ## defines chunks to work on. \n",
    "def calculate_gamma_range(x,t):    \n",
    "    dt=t[1]-t[0]\n",
    "    term_1=np.exp(-1*t)\n",
    "    term_2=np.multiply.reduce([t] * (x-1))\n",
    "    return np.sum(term_1*term_2)*dt\n",
    "chunks = [(i, i + 100) for i in range(bound_1, bound_2, 100)]\n",
    "number_of_steps=10_000_000\n",
    "n_chunk_steps=number_of_steps//len(chunks)\n",
    "bound_1_chunk, bound_2_chunk=chunks[0]\n",
    "t_chunk=np.linspace(bound_1_chunk, bound_2_chunk, n_chunk_steps)\n",
    "calculate_gamma_range(x,t_chunk)"
   ]
  },
  {
   "cell_type": "code",
   "execution_count": 141,
   "metadata": {},
   "outputs": [
    {
     "name": "stderr",
     "output_type": "stream",
     "text": [
      "/tmp/ipykernel_1024/187809148.py:19: DeprecationWarning: setDaemon() is deprecated, set the daemon attribute instead\n",
      "  worker.setDaemon(True) # this stop the threads when the program quits\n"
     ]
    },
    {
     "data": {
      "text/plain": [
       "120.00000000000003"
      ]
     },
     "execution_count": 141,
     "metadata": {},
     "output_type": "execute_result"
    }
   ],
   "source": [
    "y=0\n",
    "def calc_gamma_chunk(q,x,n_chunk_steps):\n",
    "    while True:\n",
    "        bound_1_chunk, bound_2_chunk = q.get()\n",
    "        t_chunk=np.linspace(bound_1_chunk, bound_2_chunk, n_chunk_steps)\n",
    "        global y\n",
    "        with lock:  # force synchronization\n",
    "            y = y+calculate_gamma_range(x,t_chunk)\n",
    "            q.task_done()\n",
    "def multi_thread_gamma(x,bound_1, bound_2,number_of_steps,num_threads):\n",
    "    chunks = [(i, i + 100) for i in range(bound_1, bound_2, 100)] ## defines so we can work across smaller ranges of length 100. \n",
    "    lock = Lock()\n",
    "    q = Queue()\n",
    "    for chunk in chunks:\n",
    "        q.put(chunk)\n",
    "    n_chunk_steps=number_of_steps//len(chunks)\n",
    "    for i in range(num_threads):\n",
    "        worker = Thread(target=calc_gamma_chunk, args=(q,x,n_chunk_steps))\n",
    "        worker.setDaemon(True) # this stop the threads when the program quits  \n",
    "        worker.start()         # start the threads\n",
    "    q.join()\n",
    "multi_thread_gamma(x,bound_1, bound_2,number_of_steps,4)\n",
    "y"
   ]
  },
  {
   "attachments": {},
   "cell_type": "markdown",
   "metadata": {},
   "source": [
    "**1.3.2 (Points 15)**\n",
    "**multiprocessing** with N=4 processes. \n",
    "\n"
   ]
  },
  {
   "attachments": {},
   "cell_type": "markdown",
   "metadata": {},
   "source": [
    "**1.3.3 (Points 10)** \n",
    "Compare the times of the three versions and write a short explanation of what you are observing.\n"
   ]
  },
  {
   "attachments": {},
   "cell_type": "markdown",
   "metadata": {},
   "source": [
    "How does the answer change when N=8 and why?"
   ]
  },
  {
   "cell_type": "markdown",
   "metadata": {},
   "source": [
    "---\n",
    "\n",
    "**Problem 2 (40 points)**\n",
    "\n",
    "__Website uptime__ is the time that a website or web service is available to the users over a given period.\n",
    "\n",
    "The task is to build an application that checks the uptime of websites. \n",
    "\n",
    "- The application should go over a list of website URLs and checks if those websites are up.\n",
    "- Instead of performing a classic HTTP GET request, it performs a HEAD request so that it does not affect traffic significantly.\n",
    "- If the HTTP status is in the danger ranges (400+, 500+), a message is casted. \n",
    "\n",
    "Here are some useful functions:"
   ]
  },
  {
   "cell_type": "code",
   "execution_count": null,
   "metadata": {},
   "outputs": [],
   "source": [
    "#### _website uptimer_ ####\n",
    "\n",
    "import time\n",
    "import logging\n",
    "import requests\n",
    " \n",
    "class WebsiteDownException(Exception):\n",
    "    pass\n",
    " \n",
    "def ping_website(address, timeout=20):\n",
    "    \"\"\"\n",
    "    Check if a website is down. A website is considered down \n",
    "    if either the status_code >= 400 or if the timeout expires\n",
    "     \n",
    "    Throw a WebsiteDownException if any of the website down conditions are met\n",
    "    \"\"\"\n",
    "    try:\n",
    "        response = requests.head(address, timeout=timeout)\n",
    "        if response.status_code >= 400:\n",
    "            logging.warning(\"Website %s returned status_code=%s\" % (address, response.status_code))\n",
    "            raise WebsiteDownException()\n",
    "    except requests.exceptions.RequestException:\n",
    "        logging.warning(\"Timeout expired for website %s\" % address)\n",
    "        raise WebsiteDownException()\n",
    "         \n",
    "def check_website(address):\n",
    "    \"\"\"\n",
    "    Utility function: check if a website is down, if so, notify the user\n",
    "    \"\"\"\n",
    "    try:\n",
    "        ping_website(address)\n",
    "    except WebsiteDownException:\n",
    "        print('The websie ' + address + ' is down')"
   ]
  },
  {
   "cell_type": "markdown",
   "metadata": {},
   "source": [
    "---\n",
    "\n",
    "You need a website list to try our system out. Create your own list or use the following one. \n",
    "\n",
    "---"
   ]
  },
  {
   "cell_type": "code",
   "execution_count": null,
   "metadata": {},
   "outputs": [],
   "source": [
    "WEBSITE_LIST = [\n",
    "    'http://amazon.co.uk',\n",
    "    'http://amazon.com',\n",
    "    'http://facebook.com',\n",
    "    'http://google.com',\n",
    "    'http://google.fr',\n",
    "    'http://google.es',\n",
    "    'http://google.co.uk',\n",
    "    'http://gmail.com',\n",
    "    'http://stackoverflow.com',\n",
    "    'http://github.com',\n",
    "    'http://heroku.com',\n",
    "    'http://really-cool-available-domain.com',\n",
    "    'http://djangoproject.com',\n",
    "    'http://rubyonrails.org',\n",
    "    'http://basecamp.com',\n",
    "    'http://trello.com',\n",
    "    'http://shopify.com',\n",
    "    'http://another-really-interesting-domain.co',\n",
    "    'http://airbnb.com',\n",
    "    'http://instagram.com',\n",
    "    'http://snapchat.com',\n",
    "    'http://youtube.com',\n",
    "    'http://baidu.com',\n",
    "    'http://yahoo.com',\n",
    "    'http://live.com',\n",
    "    'http://linkedin.com',\n",
    "    'http://netflix.com',\n",
    "    'http://wordpress.com',\n",
    "    'http://bing.com',\n",
    "]"
   ]
  },
  {
   "cell_type": "markdown",
   "metadata": {},
   "source": [
    "---\n",
    "\n",
    "A serial version of the _website uptimer_ can be written as: \n",
    "\n",
    "---\n"
   ]
  },
  {
   "cell_type": "code",
   "execution_count": null,
   "metadata": {},
   "outputs": [],
   "source": [
    "import time\n",
    " \n",
    "start_time = time.time()\n",
    " \n",
    "for address in WEBSITE_LIST:\n",
    "    check_website(address)\n",
    "         \n",
    "end_time = time.time()        \n",
    " \n",
    "print(\"Time for Serial: %ssecs\" % (end_time - start_time))"
   ]
  },
  {
   "cell_type": "markdown",
   "metadata": {},
   "source": [
    "You should build two versions of the **website uptimer**, by using:\n",
    "\n",
    "**2.1 (Points 15)**\n",
    "**threading** with N=4 threads; \n",
    "\n",
    "**2.2 (Points 15)**\n",
    "**multiprocessing** with N=4 processes. \n",
    "\n",
    "\n",
    "**2.3 (Points 10)** \n",
    "\n",
    "Compare the times of the three versions and write a short explanation of what you are observing.\n",
    "\n",
    "How does the answer change when N=8 and why?\n"
   ]
  }
 ],
 "metadata": {
  "kernelspec": {
   "display_name": "Python 3 (ipykernel)",
   "language": "python",
   "name": "python3"
  },
  "language_info": {
   "codemirror_mode": {
    "name": "ipython",
    "version": 3
   },
   "file_extension": ".py",
   "mimetype": "text/x-python",
   "name": "python",
   "nbconvert_exporter": "python",
   "pygments_lexer": "ipython3",
   "version": "3.10.9"
  }
 },
 "nbformat": 4,
 "nbformat_minor": 2
}
