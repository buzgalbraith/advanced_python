{
 "cells": [
  {
   "attachments": {},
   "cell_type": "markdown",
   "metadata": {},
   "source": [
    "## Homework 09:  Parallel Programming 02\n",
    "\n",
    "## Due Date: Apr 19, 2023, 11:59pm\n",
    "\n",
    "#### Firstname Lastname: Woodward (Buz) Galbraith\n",
    "\n",
    "#### E-mail: wbg231@nyu.edu\n",
    "\n",
    "#### Enter your solutions and submit this notebook"
   ]
  },
  {
   "cell_type": "markdown",
   "metadata": {},
   "source": [
    "---\n",
    "\n",
    "**Problem 1 (40p)**\n",
    "\n",
    "In this problem the goal is to calculate the mean and standard deviation of a large list of numbers by using Reduction as one of Collective Operations, see Lecture 11. \n",
    "\n",
    "\n",
    "Consider $N = 256000$ random variables uniform on $[0, 1]$, call these $x_0, x_1, \\dots, x_{N - 1}$.  \n",
    "\n",
    "\n",
    "Write an MPI program with $N=16$ processes that outputs the average and standard deviation of $x_0, x_1, \\dots, x_{N - 1}$.\n",
    "\n",
    "\n",
    "To simplify the problem, let one process, say `Process 0`, independently draws $N$ samples uniformly on $[0, 1]$.\n",
    "\n",
    "How do you explain the results?\n",
    "\n",
    "\n",
    "**Instructions:** \n",
    "Your program should use MPI4PY and collective operations. \n",
    "Save your program as 2020_spring_sol09_pr01.py and run it from the terminal as:\n",
    "\n",
    "```\n",
    "mpirun -n 16 python 2020_spring_sol09_pr01.py\n",
    "```\n"
   ]
  },
  {
   "cell_type": "code",
   "execution_count": 13,
   "metadata": {},
   "outputs": [
    {
     "name": "stdout",
     "output_type": "stream",
     "text": [
      "Overwriting 2020_spring_sol09_pr01.py\n"
     ]
    }
   ],
   "source": [
    "%%writefile 2020_spring_sol09_pr01.py\n",
    "\n",
    "\n",
    "from mpi4py import MPI\n",
    "import numpy as np\n",
    "\n",
    "comm = MPI.COMM_WORLD ## initialize communicator\n",
    "rank = comm.Get_rank() ## get the rank of each worker. \n",
    "X_stats = np.zeros((2)) ## buffer to hold mean and std of our sample\n",
    "if rank == 0: ## calculate points\n",
    "    n = 256000    ## size n \n",
    "    X = np.random.uniform(low=0,high=1, size=n)  ## X is vector of random draws on uniform zero one of size n \n",
    "    # print(X.size)\n",
    "    # print((X.reshape(16,-1).shape))\n",
    "    X=X.reshape(16,-1) ## reshape X to be easily broken into chunks for each worker. \n",
    "#    X_stats_true = np.array([np.mean(X), np.std(X)])\n",
    "else:\n",
    "    X=None ## initialize buffer for non-zero rank workers \n",
    "chunk_x = comm.scatter(X, root=0) ## scatter X call it chunk x \n",
    "chunk_stats = np.array([np.mean(chunk_x), np.std(chunk_x)]) ## find summary stats for each buffer and store them in vector\n",
    "# print(rank, chunk_stats) ###\n",
    "\n",
    "comm.Reduce(chunk_stats, X_stats, MPI.SUM, 0) ## reduce the chunk stats with addition \n",
    "X_stats = X_stats/16 ## divide the chunk stats by the number of workers to get the true mean \n",
    "if rank == 0: ## terminal case \n",
    "    print('final stats of X:\\nMean of X = {0}\\nStandard Deviation of X = {1}'.format(X_stats[0],X_stats[1])) ## output result\n",
    "#    print('true x stats =', X_stats_true)"
   ]
  },
  {
   "attachments": {},
   "cell_type": "markdown",
   "metadata": {},
   "source": [
    "- We can look at both the numeric logic behind the results and the comp sci logic\n",
    "- numerically\n",
    "    - at each chunk we are calculating the mean and standard deviations for list of equal length \n",
    "    - given we have these numbers we can effectively think of each as 'sample' and thus take the sample mean, that is add and divide by the length of each sample to get each sample mean, which will thus be equal to the total mean and standard deviation. \n",
    "- comp sci\n",
    "    - it is faster to operate in parallel on smaller chunks of data all at once than run concurrently through one large data structure. \n",
    "    - so at rank zero we generate n samples $x_{i}\\sim\\mathcal{U}(0,1) \\quad \\forall i\\in[1,n]$ then break these samples into 16 vectors (np arrays) of equal size\n",
    "    - we then check if the rank of the current worker is not equal to zero, in which case we initialize our buffer to none \n",
    "    - then we scatter the evenly divided data to each worker. \n",
    "    - calculate the mean and standard deviation for each chunk of data\n",
    "    - use a reduce operation to sum all the means and standard deviations and send the result to rank zero\n",
    "    - divide that result by 16 to get means in each case \n",
    "    - then finally output the total summary statistics. "
   ]
  },
  {
   "attachments": {},
   "cell_type": "markdown",
   "metadata": {},
   "source": [
    "\n",
    "---\n",
    "**Problem 2 (60p)**\n",
    "\n",
    "In this problem the goal is to demonstrate how one can use a Domain Decomposition and  Collective Operations. \n",
    "\n",
    "Consider the exponential distribution $X \\sim \\textrm{Exp}(1)$ with the unit mean. Find numerical approximations of moments of the exponential random variable. \n",
    "\n",
    "That is, for a random variable $X$ with the distribution $f(x) = e^{-x}$ for $x \\geq 0$, compute the first $15$ moments, where the $k$-th moment is defined as:\n",
    "$$I_k = \\int_{0}^{\\infty} x^k f(x) dx.$$\n",
    "\n",
    "\n",
    "Your program should use MPI parallel collective instructions, where the integration is performed in parallel over $N=16$ processes, over a finite range $[0, M)$, where $M=1000$, with $N = 16$ partitions and $1000$ increments per partition, see Lecture 10 and 11.\n",
    "\n",
    "Provide evaluations of $J_1, J_2, \\dots, J_{15}$, where $$J_k = \\int_{0}^{M} x^k f(x) dx.$$\n",
    "\n",
    "\n",
    "**Instructions:** \n",
    "\n",
    "Save your program as 2020_sol09_pr02.py; and run it from the terminal as:\n",
    "\n",
    "```\n",
    "mpirun -n 16 python 2020_spring_sol09_pr02.py\n",
    "```\n",
    "\n"
   ]
  },
  {
   "cell_type": "code",
   "execution_count": 16,
   "metadata": {},
   "outputs": [
    {
     "name": "stdout",
     "output_type": "stream",
     "text": [
      "Overwriting 2020_spring_sol09_pr02.py\n"
     ]
    }
   ],
   "source": [
    "%%writefile 2020_spring_sol09_pr02.py\n",
    "\n",
    "from mpi4py import MPI\n",
    "import numpy as np\n",
    "\n",
    "comm = MPI.COMM_WORLD ## initialize communicator\n",
    "rank = comm.Get_rank()  ## get the rank of each worker \n",
    "num_moments=15 ## save the total number of moments we want to calculate\n",
    "m_moment = np.zeros((1)) ## buffer to hold each moment as we calculate them   \n",
    "for m in range(1, num_moments+1): ## goes from the 1st the nth moment. \n",
    "    if rank == 0: ##initialize range\n",
    "        n = 16    ## size n \n",
    "        X_range = np.linspace(0, 1000,n*1000)  ## 1 interval between 1 and 1000 of length 16,000\n",
    "        X_range= X_range.reshape(n,-1) ## the interval subdivided into 16 intervals of length 1,000\n",
    "    else: \n",
    "        X_range=None ## initialize buffer for non-zero rank workers \n",
    "    chunk_range = comm.scatter(X_range, root=0) ## scatter the range to all the workers\n",
    "    dt=chunk_range[1]-chunk_range[0] ## find the width parameter dt\n",
    "    chunk_int = np.sum(np.power(chunk_range, m) * np.exp(-chunk_range) * dt) ## numerically calculate each chunks integral \n",
    "    comm.Reduce(chunk_int,m_moment,op= MPI.SUM,root= 0) ## sum all integrals to get a total integral over the range (ie the moment )\n",
    "    if rank == 0: ## terminal case \n",
    "        print('moment',m ,\"=\", m_moment[0]) ## output result\n",
    "## note that we also could have just initialized our buffer as a np array of length num_moments, and added each moment to the ith index\n",
    "## but we were only told to calculate and output the moments not save them, so this seemed to serve"
   ]
  },
  {
   "attachments": {},
   "cell_type": "markdown",
   "metadata": {},
   "source": [
    "\n",
    "**Bonus Question (10 points):** \n",
    "\n",
    "What is the value of $I_k$, as a function of $k$? How can it be derived?"
   ]
  },
  {
   "attachments": {},
   "cell_type": "markdown",
   "metadata": {},
   "source": [
    "- the ith moments of a Random variable $X\\sim e(\\lambda)$ is $E[X^i]=\\frac{i!}{\\lambda^i}$ in our case where $\\lambda=1$ we have $E[X^i]=\\frac{i!}{1}=i!$\n",
    "- we can show this with induction \n",
    "- consider the base case of the first moment\n",
    "    - the first moment is given by $E[X^1]=E[X]=\\int_{x}xf_{x}(x)dx=\\int_{0}^{\\infty}xe^{-x}dx=(-x-1)e^{-x}|_{0}^{\\infty}$\n",
    "    - in the limit this can be evaluated as [0+1]=1\n",
    "- induction assumption: lets assume this holds up to case n-1\n",
    "- induction step: then for case n we have \n",
    "    - $E[X^n]=\\int_{x}x^nf_{x}(x)dx=\\int_{0}^{\\infty}x^n e^{-x}dx=\\int_{0}^{\\infty}x^n e^{-x}dx=lim_{x\\rightarrow \\infty} (-x^ne^-x)-(-0^ne^-0)+n\\int_{0}^{\\infty}x^{n-1} e^{-x}dx=0-0+nE[X^{n-1}]$\n",
    "    - then by our induction assumption we see the desired result $E[X^n]=\\int_{x}x^nf_{x}(x)dx=nE[X^{n-1}]=n((n-1)!)=n!$\n",
    "- thus by induction this formula will hold. \n",
    "- Further note that this is the definition of the gamma function ($\\Gamma$) so we could have just used that as well. \n",
    "- we can also see that our estimation is correct (accepting a very small amount of error introduced by numeric approximation )"
   ]
  }
 ],
 "metadata": {
  "kernelspec": {
   "display_name": "Python 3 (ipykernel)",
   "language": "python",
   "name": "python3"
  },
  "language_info": {
   "codemirror_mode": {
    "name": "ipython",
    "version": 3
   },
   "file_extension": ".py",
   "mimetype": "text/x-python",
   "name": "python",
   "nbconvert_exporter": "python",
   "pygments_lexer": "ipython3",
   "version": "3.8.16"
  }
 },
 "nbformat": 4,
 "nbformat_minor": 2
}
