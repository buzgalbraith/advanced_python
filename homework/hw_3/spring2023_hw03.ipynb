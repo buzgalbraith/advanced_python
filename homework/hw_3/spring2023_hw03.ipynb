{
 "cells": [
  {
   "attachments": {},
   "cell_type": "markdown",
   "metadata": {},
   "source": [
    "## Homework 03\n",
    "\n",
    "### Due Date: Feb 22, 2023, 4:00PM\n",
    "\n",
    "### Student's Name: Woodward (Buz) Galbraith\n",
    "\n",
    "### Student's e-mail: wbg231@nyu.edu"
   ]
  },
  {
   "cell_type": "markdown",
   "metadata": {},
   "source": [
    "### Problem 1. (15 points)\n",
    "\n",
    "- 1.1. (5 points)    \n",
    "By using **count from itertools** make a generator which produces all numbers from 0 to 1000 (including the two) divisible by 5. \n",
    "\n",
    "- 1.2. (5 points)  \n",
    "From the obtained generator produce a list of numbers that are not divisible by 25. \n",
    "\n",
    "- 1.3. (5 points)  \n",
    "Print the list and the length of the list.\n",
    "\n",
    "\n"
   ]
  },
  {
   "attachments": {},
   "cell_type": "markdown",
   "metadata": {},
   "source": [
    "# question 1.1"
   ]
  },
  {
   "cell_type": "code",
   "execution_count": 1,
   "metadata": {},
   "outputs": [
    {
     "name": "stdout",
     "output_type": "stream",
     "text": [
      "list :  [5, 10, 15, 20, 30, 35, 40, 45, 55, 60, 65, 70, 80, 85, 90, 95, 105, 110, 115, 120, 130, 135, 140, 145, 155, 160, 165, 170, 180, 185, 190, 195, 205, 210, 215, 220, 230, 235, 240, 245, 255, 260, 265, 270, 280, 285, 290, 295, 305, 310, 315, 320, 330, 335, 340, 345, 355, 360, 365, 370, 380, 385, 390, 395, 405, 410, 415, 420, 430, 435, 440, 445, 455, 460, 465, 470, 480, 485, 490, 495, 505, 510, 515, 520, 530, 535, 540, 545, 555, 560, 565, 570, 580, 585, 590, 595, 605, 610, 615, 620, 630, 635, 640, 645, 655, 660, 665, 670, 680, 685, 690, 695, 705, 710, 715, 720, 730, 735, 740, 745, 755, 760, 765, 770, 780, 785, 790, 795, 805, 810, 815, 820, 830, 835, 840, 845, 855, 860, 865, 870, 880, 885, 890, 895, 905, 910, 915, 920, 930, 935, 940, 945, 955, 960, 965, 970, 980, 985, 990, 995]\n",
      "length of list:  160\n"
     ]
    }
   ],
   "source": [
    "from itertools import islice\n",
    "from itertools import count\n",
    "gen=(islice(count(0, 5), (1000//5)+1))\n",
    "non_divisible=[i for i in list(gen) if i%25!=0 ]\n",
    "print(\"list : \",non_divisible)\n",
    "print(\"length of list: \",len(non_divisible))"
   ]
  },
  {
   "cell_type": "markdown",
   "metadata": {},
   "source": [
    "## Problem 2. (20 points) \n",
    "\n",
    "Write three functions to calculate n! (n factorial) for a given non-negative integer n: \n",
    "\n",
    "- 2.1 (5 points)  \n",
    "f_rec(n) in a recursive way  (in a simplest way without memoization)  \n",
    "\n",
    "- 2.2 (5 points)  \n",
    "- f_it(n) in an iterative way  \n",
    "\n",
    "- 2.3 (10 points)  \n",
    "- f_acc(n) by using \"accumulate\" from itertools. \n",
    "\n",
    "\n",
    "Note the ratios of the expected run-times: \n",
    "1. f_rec(n=1000) and f_it(n=1000)  \n",
    "and \n",
    "2. f_acc(n=1000) and f_it(n=1000)\n"
   ]
  },
  {
   "cell_type": "code",
   "execution_count": 30,
   "metadata": {},
   "outputs": [
    {
     "name": "stdout",
     "output_type": "stream",
     "text": [
      "f_rec run time is:  \n",
      "297 µs ± 5.37 µs per loop (mean ± std. dev. of 10 runs, 1000 loops each)\n",
      "f_it run time is: \n",
      "198 µs ± 672 ns per loop (mean ± std. dev. of 10 runs, 1000 loops each)\n",
      "f_acc run time is: \n",
      "198 µs ± 3.92 µs per loop (mean ± std. dev. of 10 runs, 1000 loops each)\n",
      "f_acc_2 run time is: \n",
      "208 µs ± 952 ns per loop (mean ± std. dev. of 10 runs, 1000 loops each)\n",
      "f_reduce run time is: \n",
      "189 µs ± 4.92 µs per loop (mean ± std. dev. of 10 runs, 1000 loops each)\n",
      "math.factorail run time is: \n",
      "30.6 µs ± 323 ns per loop (mean ± std. dev. of 10 runs, 1000 loops each)\n",
      "run time ratio of f_rec to f_it is:\n",
      "1.4731021677424982\n",
      "run time ratio of f_acc to f_it is:\n",
      "1.002945011545301\n",
      "run time ratio of f_acc_2 to f_it is:\n",
      "1.0614892097113784\n",
      "run time ratio of f_reduce to f_it is:\n",
      "0.9540995236593208\n",
      "run time ratio of f_reduce to f_it is:\n",
      "0.15959424848871862\n"
     ]
    }
   ],
   "source": [
    "import timeit\n",
    "from itertools import accumulate \n",
    "from operator import mul\n",
    "from statistics  import mean\n",
    "from functools import reduce\n",
    "from math import factorial\n",
    "def f_rec(n):\n",
    "    if(n<=1):\n",
    "        return 1\n",
    "    return f_rec(n-1)*n\n",
    "def f_it(n):\n",
    "    out=1\n",
    "    for i in range(1,n+1):\n",
    "        out=out*i\n",
    "    return out\n",
    "def f_acc(n):   \n",
    "    for i in accumulate(range(2, 1 + n), mul):\n",
    "        0\n",
    "    return i\n",
    "\n",
    "def f_acc_2(n):\n",
    "    if n == 0:\n",
    "        return 1\n",
    "    else:\n",
    "        return list(accumulate(range(2, n+1), mul))[-1]\n",
    "def f_reduce(n):\n",
    "    return reduce(mul, range(2,n+1) )\n",
    "\n",
    "\n",
    "print(\"f_rec run time is:  \")    \n",
    "%timeit -r 10 -n 1000 f_rec(1000)\n",
    "print(\"f_it run time is: \")\n",
    "%timeit -r 10 -n 1000 f_it(1000)\n",
    "print(\"f_acc run time is: \")\n",
    "%timeit -r 10 -n 1000 f_acc(1000) \n",
    "print(\"f_acc_2 run time is: \")\n",
    "%timeit -r 10 -n 1000 f_acc_2(1000) \n",
    "print(\"f_reduce run time is: \")\n",
    "%timeit -r 10 -n 1000 f_reduce(1000) \n",
    "print(\"math.factorail run time is: \")\n",
    "%timeit -r 10 -n 1000 factorial(1000) \n",
    "a = mean(timeit.Timer(lambda: f_rec(1000)) .repeat(number=1000, repeat=10))\n",
    "b = mean(timeit.Timer(lambda: f_it    (1000)) .repeat(number=1000, repeat=10))\n",
    "c = mean(timeit.Timer(lambda: f_acc(1000)) .repeat(number=1000, repeat=10))\n",
    "d = mean(timeit.Timer(lambda: f_acc_2(1000)) .repeat(number=1000, repeat=10))\n",
    "e = mean(timeit.Timer(lambda: f_reduce(1000)) .repeat(number=1000, repeat=10))\n",
    "f = mean(timeit.Timer(lambda: factorial(1000)) .repeat(number=1000, repeat=10))\n",
    "print(\"run time ratio of f_rec to f_it is:\\n{0}\".format(a/b) )\n",
    "print(\"run time ratio of f_acc to f_it is:\\n{0}\".format(c/b) )\n",
    "print(\"run time ratio of f_acc_2 to f_it is:\\n{0}\".format(d/b) )\n",
    "print(\"run time ratio of f_reduce to f_it is:\\n{0}\".format(e/b) )\n",
    "print(\"run time ratio of f_reduce to f_it is:\\n{0}\".format(f/b) )"
   ]
  },
  {
   "attachments": {},
   "cell_type": "markdown",
   "metadata": {},
   "source": [
    "1. f_itt is a lot faster than f_rec, this makes sense as in the iterative approach we are having n function calls, while in f_it we do more or less the same thing with one function call and a iterator. \n",
    "2. The ratio of f_acc over f_itt is 0.9755400577878344. I think logically it makes sense to me that using the accumulate function to construct an efficient iterator and then getting its last value is only marginally more efficient than using an iterator (the range function) and doing a single multiplication at each step as you go. I tried a number of ways to write f_acc, (including f_acc_2 which looks nicer than f_acc but is slightly slower) and they all resulted in approximately the same run time. I also found that implementing the function using range and a reduce function was more efficient than anything I could get use the accumulate method, and further the fastest way to get factorials in phyton as far as I can tell is using the math.factorial built in function. \n"
   ]
  },
  {
   "cell_type": "markdown",
   "metadata": {},
   "source": [
    "# Problem 3 (35 points) \n",
    "\n",
    "- 3.1 (5 points)  \n",
    "Write a function  `perm_generator(n)`, which for a given positive integer $n$, returns a generator with all permutations of the set  $\\{0, 1, 2 , \\dots n - 1\\}$.\n",
    "\n",
    "\n",
    "- 3.2 (10 points)  \n",
    "Write a function  `comb_generator(n, k)`, which for given non-negative integers $n, k$ where $n  \\geq k$, returns a generator with all combinations of size $k$ on the set  $\\{0, 1, 2 , \\dots n - 1\\}$.\n",
    "\n",
    "\n",
    "- 3.3 (20 points)    \n",
    "Write a function `h_generator(n)`,  which for a given positive integer $n$, returns a generator with all permutations of the set  $\\{0, 1, 2 , \\dots n - 1\\}$ such that for all  $i = 0, 1, 2, \\dots, n−1$ the number $i$ is not at the $i$-th position. \n",
    "\n",
    "- 3.3. Example: For $n=3$, there are  $3!=6$  permutations $(0, 1, 2), (0, 2, 1), (1, 0, 2), (1, 2, 0), (2, 0, 1), (2, 1, 0)$. And `h_generator(n)` should return the generator with permutations $(1, 2, 0)$ and $(2, 0, 1)$.  For example, $(2, 1, 0)$ cannot be included since here $1$ is at the $1$-st position. \n",
    "\n"
   ]
  },
  {
   "cell_type": "code",
   "execution_count": 27,
   "metadata": {},
   "outputs": [
    {
     "data": {
      "text/plain": [
       "[(1, 0, 3, 4, 2),\n",
       " (1, 0, 4, 2, 3),\n",
       " (1, 2, 0, 4, 3),\n",
       " (1, 2, 3, 4, 0),\n",
       " (1, 2, 4, 0, 3),\n",
       " (1, 3, 0, 4, 2),\n",
       " (1, 3, 4, 0, 2),\n",
       " (1, 3, 4, 2, 0),\n",
       " (1, 4, 0, 2, 3),\n",
       " (1, 4, 3, 0, 2),\n",
       " (1, 4, 3, 2, 0),\n",
       " (2, 0, 1, 4, 3),\n",
       " (2, 0, 3, 4, 1),\n",
       " (2, 0, 4, 1, 3),\n",
       " (2, 3, 0, 4, 1),\n",
       " (2, 3, 1, 4, 0),\n",
       " (2, 3, 4, 0, 1),\n",
       " (2, 3, 4, 1, 0),\n",
       " (2, 4, 0, 1, 3),\n",
       " (2, 4, 1, 0, 3),\n",
       " (2, 4, 3, 0, 1),\n",
       " (2, 4, 3, 1, 0),\n",
       " (3, 0, 1, 4, 2),\n",
       " (3, 0, 4, 1, 2),\n",
       " (3, 0, 4, 2, 1),\n",
       " (3, 2, 0, 4, 1),\n",
       " (3, 2, 1, 4, 0),\n",
       " (3, 2, 4, 0, 1),\n",
       " (3, 2, 4, 1, 0),\n",
       " (3, 4, 0, 1, 2),\n",
       " (3, 4, 0, 2, 1),\n",
       " (3, 4, 1, 0, 2),\n",
       " (3, 4, 1, 2, 0),\n",
       " (4, 0, 1, 2, 3),\n",
       " (4, 0, 3, 1, 2),\n",
       " (4, 0, 3, 2, 1),\n",
       " (4, 2, 0, 1, 3),\n",
       " (4, 2, 1, 0, 3),\n",
       " (4, 2, 3, 0, 1),\n",
       " (4, 2, 3, 1, 0),\n",
       " (4, 3, 0, 1, 2),\n",
       " (4, 3, 0, 2, 1),\n",
       " (4, 3, 1, 0, 2),\n",
       " (4, 3, 1, 2, 0)]"
      ]
     },
     "execution_count": 27,
     "metadata": {},
     "output_type": "execute_result"
    }
   ],
   "source": [
    "from itertools import permutations\n",
    "from itertools import combinations\n",
    "\n",
    "def perm_generator(n):\n",
    "    return permutations(range(0,n))\n",
    "def comb_generator(n,k):\n",
    "    return combinations(range(0,n), r=k)\n",
    "def h_generator(n):\n",
    "    is_lambda=lambda word:  all([False if word[i]==i else True for i in range(len(word))])\n",
    "    return filter(is_lambda, list(permutations(range(0,n))))"
   ]
  },
  {
   "attachments": {},
   "cell_type": "markdown",
   "metadata": {},
   "source": [
    "## Problem 4 (30 points) \n",
    "\n",
    "\n",
    "By using **starmap** from **itertools** write a function that returns a generator that produces all distances for a given input list of points, in the two-dimensional coordinate system.\n",
    "\n",
    "In more detail, for a given input list of points $\\text{list of points} = [p_0, p_1, \\dots, p_{n - 1}] $ , write a function: \n",
    "\n",
    "$$\\text{f distances(list of points)}$$\n",
    "\n",
    "that returns a generator that produces tuples $(p_i, p_j, ||p_i - p_j||)$, (where each tuple stores the point i, point j and their Euclidean distance). (There are $n(n - 1) / 2$ tuples.)\n",
    "\n",
    "\n",
    "For example: \n",
    "\n",
    "- input: For 3 points as $\\textrm{list of points} = [(0, 0), (0, 1), (1, 0)]$\n",
    "\n",
    "- output: A generator that produces ${3 \\choose 2} = 3$ tuples: $((0, 0), (0, 1), 1); ((0, 0), (1, 0), 1); ((0, 1), (1, 0), \\sqrt{2})$.\n",
    "\n"
   ]
  },
  {
   "cell_type": "code",
   "execution_count": 29,
   "metadata": {},
   "outputs": [
    {
     "data": {
      "text/plain": [
       "[((0, 0), (0, 1), 1.0),\n",
       " ((0, 0), (1, 0), 1.0),\n",
       " ((0, 0), (2, 5), 5.385164807134505),\n",
       " ((0, 1), (1, 0), 1.4142135623730951),\n",
       " ((0, 1), (2, 5), 4.47213595499958),\n",
       " ((1, 0), (2, 5), 5.099019513592785)]"
      ]
     },
     "execution_count": 29,
     "metadata": {},
     "output_type": "execute_result"
    }
   ],
   "source": [
    "from itertools import chain \n",
    "from itertools import starmap\n",
    "from math import dist \n",
    "def find_pairwise_distances(points: list):\n",
    "    gen=list(combinations(points ,r=2))\n",
    "    dists=list(starmap(dist,list(gen)))\n",
    "    return ((gen[i][0],gen[i][1], dists[i]) for i in range(len(gen)) )\n",
    "points = [(0, 0), (0, 1), (1, 0), (2,5)]\n",
    "list(find_pairwise_distances(points))"
   ]
  }
 ],
 "metadata": {
  "kernelspec": {
   "display_name": "advpy",
   "language": "python",
   "name": "python3"
  },
  "language_info": {
   "codemirror_mode": {
    "name": "ipython",
    "version": 3
   },
   "file_extension": ".py",
   "mimetype": "text/x-python",
   "name": "python",
   "nbconvert_exporter": "python",
   "pygments_lexer": "ipython3",
   "version": "3.8.16"
  },
  "vscode": {
   "interpreter": {
    "hash": "8a5edab282632443219e051e4ade2d1d5bbc671c781051bf1437897cbdfea0f1"
   }
  }
 },
 "nbformat": 4,
 "nbformat_minor": 2
}
