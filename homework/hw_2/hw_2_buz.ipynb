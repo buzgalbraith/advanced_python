{
 "cells": [
  {
   "cell_type": "markdown",
   "metadata": {},
   "source": [
    "**Advanced Python for Data Science**  \n",
    "**DS-GA 1019**\n",
    "\n",
    "\n",
    "## Homework Assignment 02  \n",
    "**Due date: Feb 15, 2023, 4:00PM**  "
   ]
  },
  {
   "cell_type": "markdown",
   "metadata": {},
   "source": [
    "### Instructions for submitting solutions for assignment 2: \n",
    "\n",
    "- Please submit only one zip file to NYU Classes, which contains **all your python solutions** and **one pdf file** with all of your answers.  \n",
    "\n",
    "- The submitted zip-file name should be as **\"spring2023_sol02_*nyuid*.zip\"**  \n",
    "\n",
    "\n",
    "- **e.g.** If your nyuid is \"ab1234\", the submission is \"spring2023_sol02_ab1234.zip\"  \n",
    "\n",
    "\n",
    "\n"
   ]
  },
  {
   "cell_type": "code",
   "execution_count": 17,
   "metadata": {},
   "outputs": [
    {
     "name": "stdout",
     "output_type": "stream",
     "text": [
      "0.4074074074074074\n"
     ]
    }
   ],
   "source": [
    "print(33/81)"
   ]
  },
  {
   "cell_type": "markdown",
   "metadata": {},
   "source": [
    "# Problem 1. (30pt)\n",
    "\n",
    "Write a function f(n) to calculate the number of ways of representing $n$ as a sum of 1, 2, and 5, where the order of summands is important. For example: \n",
    "\n",
    "---\n",
    "\n",
    "n = 1  \n",
    "1 = 1  \n",
    "f(1) = 1  \n",
    "\n",
    "---\n",
    "\n",
    "n = 2  \n",
    "2 = 1 + 1  \n",
    "2 = 2  \n",
    "f(2) = 2  \n",
    "\n",
    "---\n",
    "\n",
    "n = 3  \n",
    "3 = 1 + 1 + 1  \n",
    "3 = 1 + 2  \n",
    "3 = 2 + 1  \n",
    "f(3) = 3 \n",
    "\n",
    "---\n",
    "\n",
    "n = 5  \n",
    "5 = 1 + 1 + 1 + 1 + 1  \n",
    "5 = 1 + 1 + 1 + 2  \n",
    "5 = 1 + 1 + 2 + 1  \n",
    "5 = 1 + 2 + 1 + 1  \n",
    "5 = 2 + 1 + 1 + 1  \n",
    "5 = 2 + 2 + 1  \n",
    "5 = 2 + 1 + 2  \n",
    "5 = 1 + 2 + 2  \n",
    "5 = 5  \n",
    "f(5) = 9\n",
    "\n",
    "---\n",
    "\n",
    "(10pt) Write a recursive solution f_rec() without memoization and time it for $n=10, 25$.  \n",
    "\n",
    "(10pt) Write a recursive solution with memoization or a wrapper function f_memo() and time it for $n=10, 25, 50, 100$.  \n",
    "\n",
    "(10pt) Write an iterative solution f_it() and time it for $n=10, 25, 50, 100$.  \n",
    "\n"
   ]
  },
  {
   "cell_type": "code",
   "execution_count": 10,
   "metadata": {},
   "outputs": [],
   "source": [
    "# imports \n",
    "import timeit\n",
    "import time"
   ]
  },
  {
   "attachments": {},
   "cell_type": "markdown",
   "metadata": {},
   "source": [
    "# question 1 part 1\n",
    "write a recursive solution without memoization"
   ]
  },
  {
   "cell_type": "code",
   "execution_count": 11,
   "metadata": {},
   "outputs": [
    {
     "name": "stdout",
     "output_type": "stream",
     "text": [
      "f_rec on {'n': 10}\n",
      " time: 0.0000420000; result: 128\n",
      "f_rec on {'n': 25}\n",
      " time: 0.0864013000; result: 382396\n"
     ]
    }
   ],
   "source": [
    "def f_rec(n):\n",
    "    out=0\n",
    "    if(n>=5):\n",
    "        out=out+f_rec(n-5)\n",
    "    if(n>=2):\n",
    "        out=out+f_rec(n-2)\n",
    "    if(n>=1):\n",
    "        out=out+f_rec(n-1)\n",
    "    if(n==0):\n",
    "        return 1\n",
    "    else:\n",
    "        return out\n",
    "# %timeit -n 1000 -r 7 f_rec(10) \n",
    "# %timeit -n 1000  f_rec(25) \n",
    "def time_function(f, d):\n",
    "    t = time.process_time() \n",
    "    f_time=f(**d) \n",
    "    elapsed_time_c = time.process_time() - t\n",
    "    print(\"{0} on {1}\\n time: %0.10f; result: %d\".format(f.__name__, d) % (elapsed_time_c, f_time))\n",
    "time_function(f=f_rec, d={\"n\":10})\n",
    "time_function(f=f_rec, d={\"n\":25})\n",
    "\n"
   ]
  },
  {
   "attachments": {},
   "cell_type": "markdown",
   "metadata": {},
   "source": [
    "# question 1 part 2\n",
    "\n",
    "(10pt) Write a recursive solution with memoization or a wrapper function f_memo() and time it for $n=10, 25, 50, 100$.  \n"
   ]
  },
  {
   "cell_type": "code",
   "execution_count": 12,
   "metadata": {},
   "outputs": [
    {
     "name": "stdout",
     "output_type": "stream",
     "text": [
      "f_memo on {'n': 10}\n",
      " time: 0.0000100000; result: 128\n",
      "f_memo on {'n': 25}\n",
      " time: 0.0000081000; result: 382396\n",
      "f_memo on {'n': 50}\n",
      " time: 0.0000118000; result: 237139442616\n",
      "f_memo on {'n': 100}\n",
      " time: 0.0000326000; result: 91197869007632925819218\n"
     ]
    }
   ],
   "source": [
    "def f_memo(n):\n",
    "    memo={n:0 for n in range(n+1)}\n",
    "    memo[1]=1\n",
    "    memo[2]=1\n",
    "    memo[5]=1\n",
    "    for i in range(2,n+1):\n",
    "        if(i>5):\n",
    "            memo[i]=memo[i]+memo[i-1]+ memo[i-2]+memo[i-5]\n",
    "        else:\n",
    "            memo[i]=memo[i]+memo[i-1]+ memo[i-2]\n",
    "    return memo[n]\n",
    "time_function(f=f_memo, d={\"n\":10})\n",
    "time_function(f=f_memo, d={\"n\":25})\n",
    "time_function(f=f_memo, d={\"n\":50})\n",
    "time_function(f=f_memo, d={\"n\":100})\n",
    "\n"
   ]
  },
  {
   "cell_type": "code",
   "execution_count": 13,
   "metadata": {},
   "outputs": [
    {
     "data": {
      "text/plain": [
       "187"
      ]
     },
     "execution_count": 13,
     "metadata": {},
     "output_type": "execute_result"
    }
   ],
   "source": [
    "327-140"
   ]
  },
  {
   "attachments": {},
   "cell_type": "markdown",
   "metadata": {},
   "source": [
    "# question 1 part 3\n",
    "(10pt) Write an iterative solution f_it() and time it for $n=10, 25, 50, 100$.  "
   ]
  },
  {
   "cell_type": "code",
   "execution_count": 14,
   "metadata": {},
   "outputs": [
    {
     "name": "stdout",
     "output_type": "stream",
     "text": [
      "f_it on {'n': 10}\n",
      " time: 0.0000055000; result: 128\n",
      "f_it on {'n': 25}\n",
      " time: 0.0000057000; result: 382396\n",
      "f_it on {'n': 50}\n",
      " time: 0.0000078000; result: 237139442616\n",
      "f_it on {'n': 100}\n",
      " time: 0.0000145000; result: 91197869007632925819218\n"
     ]
    }
   ],
   "source": [
    "def f_it(n): \n",
    "    a=[9, 5, 3, 2, 1]\n",
    "    b=0\n",
    "    if(n<=5):\n",
    "        return a[5-n]\n",
    "    for i in range(6,n+1):\n",
    "        b=a[0]+a[1]+a[-1]\n",
    "        a=[b]+a[0:-1]\n",
    "        #a=insert(a[:-1],0,b)\n",
    "    return a[0]\n",
    "time_function(f=f_it, d={\"n\":10})\n",
    "time_function(f=f_it, d={\"n\":25})\n",
    "time_function(f=f_it, d={\"n\":50})\n",
    "time_function(f=f_it, d={\"n\":100})"
   ]
  },
  {
   "cell_type": "code",
   "execution_count": 15,
   "metadata": {},
   "outputs": [
    {
     "name": "stdout",
     "output_type": "stream",
     "text": [
      "f_rec on {'n': 10}\n",
      " time: 0.0000383000; result: 128\n",
      "f_memo on {'n': 10}\n",
      " time: 0.0000059000; result: 128\n",
      "f_it on {'n': 10}\n",
      " time: 0.0000033000; result: 128\n",
      "f_rec on {'n': 25}\n",
      " time: 0.1062179000; result: 382396\n",
      "f_memo on {'n': 25}\n",
      " time: 0.0000326000; result: 382396\n",
      "f_it on {'n': 25}\n",
      " time: 0.0000298000; result: 382396\n",
      "f_memo on {'n': 50}\n",
      " time: 0.0000239000; result: 237139442616\n",
      "f_it on {'n': 50}\n",
      " time: 0.0000240000; result: 237139442616\n",
      "f_memo on {'n': 100}\n",
      " time: 0.0000918000; result: 91197869007632925819218\n",
      "f_it on {'n': 100}\n",
      " time: 0.0000486000; result: 91197869007632925819218\n"
     ]
    }
   ],
   "source": [
    "time_function(f=f_rec, d={\"n\":10})\n",
    "time_function(f=f_memo, d={\"n\":10})\n",
    "time_function(f=f_it, d={\"n\":10})\n",
    "time_function(f=f_rec, d={\"n\":25})\n",
    "time_function(f=f_memo, d={\"n\":25})\n",
    "time_function(f=f_it, d={\"n\":25})\n",
    "time_function(f=f_memo, d={\"n\":50})\n",
    "time_function(f=f_it, d={\"n\":50})\n",
    "time_function(f=f_memo, d={\"n\":100})\n",
    "time_function(f=f_it, d={\"n\":100})"
   ]
  },
  {
   "cell_type": "markdown",
   "metadata": {},
   "source": [
    "# Problem 2. (70%)\n",
    "\n",
    "An astrophysicist colleague was recently complaining about how long it was taking to run an N-body simulation. “It’s really just a simple calculation, and I’m only simulating four planets, but it takes nearly a minute and a half to run one simulation. I really need it done in under 30 seconds.” You kindly offer to take a look at code to see if it is possible to speed it up. Your colleague provides you with a link to the source: https://nyu-cds.github.io/courses/code/nbody.py\n",
    "\n",
    "\n",
    "Although your colleague said the code was simple, it is still fairly complex, so you decide to tackle the problem in stages. A first scan of the code reveals a number of potential areas that could be improved. These include:\n",
    "\n",
    "- Reducing function call overhead\n",
    "\n",
    "- Using alternatives to membership testing of lists \n",
    "\n",
    "- Using local rather than global variables \n",
    "\n",
    "- Using data aggregation to reduce loop overheads.\n",
    "\n",
    "As you’re a cautious programmer, you decide to address each of these in turn. This will ensure that it is possible to check the program is still working correctly after each change, and to assess the performance improvement that the change achieved. You are also aware that the program has to be maintained by others in the future, so you want to make sure that the changes do not make this more difficult, especially if the performance improvement is only minor.\n",
    "\n",
    "For each of these areas, create a new version of nbody.py, call them nbody_1.py, nbody_2.py, nbody_3.py, nbody_4.py. Finally, create another file called nbody_opt.py that contains all of the optimizations you made. \n",
    "\n",
    "\n",
    "Finally, generate a .pdf file with the four logs produced by the command in shell:\n",
    "\n",
    "for f in nbody_*.py; do python -m cProfile -s cumulative $f; done\n",
    "\n",
    "How much speedup do you get (time_original/time_optimized)?\n",
    "\n"
   ]
  }
 ],
 "metadata": {
  "kernelspec": {
   "display_name": "advpy",
   "language": "python",
   "name": "python3"
  },
  "language_info": {
   "codemirror_mode": {
    "name": "ipython",
    "version": 3
   },
   "file_extension": ".py",
   "mimetype": "text/x-python",
   "name": "python",
   "nbconvert_exporter": "python",
   "pygments_lexer": "ipython3",
   "version": "3.8.16"
  },
  "vscode": {
   "interpreter": {
    "hash": "96539237877bf37b3e2892e3cbc3476e4ad1d9ba2ab3441e7253cc6d8147174d"
   }
  }
 },
 "nbformat": 4,
 "nbformat_minor": 2
}
