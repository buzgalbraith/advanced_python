{
 "cells": [
  {
   "attachments": {},
   "cell_type": "markdown",
   "metadata": {
    "slideshow": {
     "slide_type": "slide"
    }
   },
   "source": [
    "## NYU CDS (Center for Data Science)\n",
    "\n",
    "# DS-GA 1019: Advanced Python for Data Science\n",
    "\n",
    "## Lab 01\n",
    "### 1/26/2022"
   ]
  },
  {
   "attachments": {},
   "cell_type": "markdown",
   "metadata": {
    "slideshow": {
     "slide_type": "slide"
    }
   },
   "source": [
    "## Required installation\n",
    "\n",
    "Things you should've installed:\n",
    "* Shell (bash/zsh, typically included in OS, see [here](https://learn.microsoft.com/en-us/windows/wsl/install) to install WSL on Windows)\n",
    "* Python with [Anaconda](https://docs.anaconda.com/anaconda/install/) (or [Miniconda](https://docs.conda.io/projects/conda/en/latest/user-guide/install/)) distribution\n",
    "* Create new conda environment\n",
    "`conda create -n advpy python=3.8`\n",
    "* IPython, Jupyter Notebook, numpy, pandas\n",
    "    `conda install ipython jupyter numpy pandas`\n",
    "    \n",
    "### Alternative \n",
    "\n",
    "1. Unzip lab1.zip\n",
    "2. Go to [Google Colab](https://colab.research.google.com/) and upload lab01.ipynb\n",
    "3. Upload the remaining files to the Files section in the sidebar "
   ]
  },
  {
   "cell_type": "markdown",
   "metadata": {
    "extensions": {
     "jupyter_dashboards": {
      "version": 1,
      "views": {
       "grid_default": {
        "col": 0,
        "height": 4,
        "hidden": false,
        "row": 5,
        "width": 12
       },
       "report_default": {
        "hidden": false
       }
      }
     }
    },
    "slideshow": {
     "slide_type": "slide"
    }
   },
   "source": [
    "## 1. Shell Script: Producing Reuseable Commands "
   ]
  },
  {
   "cell_type": "markdown",
   "metadata": {
    "slideshow": {
     "slide_type": "slide"
    }
   },
   "source": [
    "- `flightdelays.csv` - data set containing the arrival and departure details of all commercial flights in the US from 2007 \n",
    "- Check `flightdelays_with_header.csv` for headers\n",
    "    1. Column 16 - Departure delay\n",
    "    2. Column 18 - Destination airport"
   ]
  },
  {
   "cell_type": "markdown",
   "metadata": {
    "slideshow": {
     "slide_type": "slide"
    }
   },
   "source": [
    "### e.g 0. parse a csv file (process_data.sh)\n",
    "```text\n",
    "#!/usr/bin/env bash \n",
    "# Tells OS that the script is in bash\n",
    "\n",
    "echo \"Data Processing\"\n",
    "# To store the output of a command as a variable in bash:\n",
    "# var=$(command)\n",
    "\n",
    "echo -e \"The name of the file is:\" $1 \"\\n\"\n",
    "\n",
    "lines=$(wc -l < $1)\n",
    "echo -e \"The file has\" $lines \"lines\\n\"\n",
    "\n",
    "colnames=$(head -n 1 < $1)\n",
    "echo \"Column names are: \"\n",
    "echo $colnames\n",
    "```"
   ]
  },
  {
   "attachments": {},
   "cell_type": "markdown",
   "metadata": {},
   "source": [
    "**Note** - Shell commands can be run directly on notebook using ! [link](https://jupyter-tutorial.readthedocs.io/en/stable/workspace/ipython/shell.html)"
   ]
  },
  {
   "cell_type": "code",
   "execution_count": 1,
   "metadata": {
    "slideshow": {
     "slide_type": "slide"
    }
   },
   "outputs": [
    {
     "name": "stdout",
     "output_type": "stream",
     "text": [
      "Data Processing\n",
      "The name of the file is: flightdelays_with_header.csv \n",
      "\n",
      "The file has 494 lines\n",
      "\n",
      "Column names are: \n",
      "Year,Month,DayofMonth,DayOfWeek,DepTime,CRSDepTime,ArrTime,CRSArrTime,UniqueCarrier,FlightNum,TailNum,ActualElapsedTime,CRSElapsedTime,AirTime,ArrDelay,DepDelay,Origin,Dest,Distance,TaxiIn,TaxiOut,Cancelled,CancellationCode,Diverted,CarrierDelay,WeatherDelay,NASDelay,SecurityDelay,LateAircraftDelay\n"
     ]
    }
   ],
   "source": [
    "#To run:\n",
    "!bash process_data.sh flightdelays_with_header.csv "
   ]
  },
  {
   "cell_type": "markdown",
   "metadata": {
    "slideshow": {
     "slide_type": "slide"
    }
   },
   "source": [
    "### e.g 1. Calculate minimum, maximum delay in departure (delay.sh)\n",
    "\n",
    "```text\n",
    "#!/usr/bin/env bash \n",
    "\n",
    "echo -n \"Min delay: \"\n",
    "cut -d ',' -f 16 $1|sort -n|head -1\n",
    "\n",
    "echo -n \"Max delay: \"\n",
    "cut -d ',' -f 16 $1|sort -n|tail -1\n",
    "\n",
    "```"
   ]
  },
  {
   "cell_type": "code",
   "execution_count": 2,
   "metadata": {},
   "outputs": [
    {
     "name": "stdout",
     "output_type": "stream",
     "text": [
      "Min delay: -14\n",
      "Max delay: 209\n",
      "601\n"
     ]
    }
   ],
   "source": [
    "#To run:\n",
    "!bash delay.sh flightdelays.csv"
   ]
  },
  {
   "cell_type": "markdown",
   "metadata": {
    "extensions": {
     "jupyter_dashboards": {
      "version": 1,
      "views": {
       "grid_default": {
        "col": 0,
        "height": 11,
        "hidden": false,
        "row": 9,
        "width": 12
       },
       "report_default": {
        "hidden": false
       }
      }
     }
    },
    "slideshow": {
     "slide_type": "slide"
    }
   },
   "source": [
    "### e.g 2. Top 3 destination airports (by the number of arriving planes), unique airports (demoscript.sh)\n",
    "```text\n",
    "#!/usr/bin/env bash\n",
    "\n",
    "echo \"The top 3 airports:\"\n",
    "cut -d ',' -f 18 $1|sort |uniq -c |sort -n |tail -3\n",
    "# uniq -c \n",
    "# Precede each output line with the count of the number \n",
    "# of times the line occurred in the input,\n",
    "# followed by a single space\n",
    "\n",
    "echo \"The number of unique airports:\"\n",
    "cut -d ',' -f 18 $1|sort |uniq |wc -l\n",
    "```"
   ]
  },
  {
   "cell_type": "code",
   "execution_count": 3,
   "metadata": {
    "extensions": {
     "jupyter_dashboards": {
      "version": 1,
      "views": {
       "grid_default": {
        "col": 0,
        "height": 5,
        "hidden": false,
        "row": 20,
        "width": 12
       },
       "report_default": {
        "hidden": false
       }
      }
     }
    },
    "slideshow": {
     "slide_type": "slide"
    }
   },
   "outputs": [
    {
     "name": "stdout",
     "output_type": "stream",
     "text": [
      "The top 3 airports:\n",
      "     19 PHX\n",
      "     24 ORD\n",
      "     37 ATL\n",
      "The number of unique airports:\n",
      "122\n"
     ]
    }
   ],
   "source": [
    "#To run:\n",
    "!bash demoscript.sh flightdelays.csv"
   ]
  },
  {
   "cell_type": "markdown",
   "metadata": {
    "slideshow": {
     "slide_type": "slide"
    }
   },
   "source": [
    "### e.g 3. executing a python program with argments\n",
    "```text\n",
    "#!/bin/bash\n",
    "python greeting_arg.py -n $1 -g $2\n",
    "```"
   ]
  },
  {
   "cell_type": "code",
   "execution_count": 4,
   "metadata": {
    "slideshow": {
     "slide_type": "-"
    }
   },
   "outputs": [
    {
     "name": "stdout",
     "output_type": "stream",
     "text": [
      "Welcome, Alice!\n"
     ]
    }
   ],
   "source": [
    "#To run:\n",
    "!bash python_shell.sh Alice Welcome"
   ]
  },
  {
   "cell_type": "markdown",
   "metadata": {
    "extensions": {
     "jupyter_dashboards": {
      "version": 1,
      "views": {
       "grid_default": {
        "col": 0,
        "height": 9,
        "hidden": false,
        "row": 37,
        "width": 12
       },
       "report_default": {
        "hidden": false
       }
      }
     }
    },
    "slideshow": {
     "slide_type": "slide"
    }
   },
   "source": [
    "### e.g 4. executing program on a set of file (do-stats.sh)\n",
    "```text\n",
    "#!/usr/bin/env bash\n",
    "for datafile in \"$@\" # $@ in refers to all of a shell script's command-line arguments. $1 , $2 , etc.,\n",
    "                     # Place variables in quotes if the values might have spaces in them\n",
    "do\n",
    "    echo $datafile\n",
    "    bash goostats $datafile stats-$datafile\n",
    "done\n",
    "```"
   ]
  },
  {
   "cell_type": "code",
   "execution_count": 5,
   "metadata": {
    "extensions": {
     "jupyter_dashboards": {
      "version": 1,
      "views": {
       "grid_default": {
        "col": 0,
        "height": 5,
        "hidden": false,
        "row": 46,
        "width": 12
       },
       "report_default": {
        "hidden": false
       }
      }
     }
    },
    "slideshow": {
     "slide_type": "slide"
    }
   },
   "outputs": [
    {
     "name": "stdout",
     "output_type": "stream",
     "text": [
      "NENE01729A.txt\n",
      "NENE01729B.txt\n",
      "NENE01736A.txt\n",
      "NENE01751A.txt\n",
      "NENE01751B.txt\n",
      "NENE01812A.txt\n",
      "NENE01843A.txt\n"
     ]
    }
   ],
   "source": [
    "#To run:\n",
    "!bash do-stats.sh NENE*[AB].txt"
   ]
  },
  {
   "cell_type": "markdown",
   "metadata": {
    "extensions": {
     "jupyter_dashboards": {
      "version": 1,
      "views": {
       "grid_default": {
        "col": 0,
        "height": 4,
        "hidden": false,
        "row": 60,
        "width": 12
       },
       "report_default": {
        "hidden": false
       }
      }
     }
    },
    "slideshow": {
     "slide_type": "slide"
    }
   },
   "source": [
    "## 2. Useful Shell Commands in Scrubbing Data"
   ]
  },
  {
   "cell_type": "markdown",
   "metadata": {
    "extensions": {
     "jupyter_dashboards": {
      "version": 1,
      "views": {
       "grid_default": {
        "col": 0,
        "height": 4,
        "hidden": false,
        "row": 64,
        "width": 12
       },
       "report_default": {
        "hidden": false
       }
      }
     }
    },
    "slideshow": {
     "slide_type": "slide"
    }
   },
   "source": [
    "### Get part of the file: head, sed, tail\n"
   ]
  },
  {
   "cell_type": "code",
   "execution_count": 6,
   "metadata": {
    "extensions": {
     "jupyter_dashboards": {
      "version": 1,
      "views": {
       "grid_default": {
        "col": 0,
        "height": 14,
        "hidden": false,
        "row": 68,
        "width": 12
       },
       "report_default": {
        "hidden": false
       }
      }
     }
    },
    "slideshow": {
     "slide_type": "fragment"
    }
   },
   "outputs": [
    {
     "name": "stdout",
     "output_type": "stream",
     "text": [
      "Line 1\n",
      "Line 2\n",
      "Line 3\n",
      "Line 4\n",
      "Line 5\n",
      "Line 6\n",
      "Line 7\n",
      "Line 8\n",
      "Line 9\n",
      "Line 10\n"
     ]
    }
   ],
   "source": [
    "!seq -f \"Line %g\" 10 | tee lines\n",
    "# tee: copies standard input to standard output"
   ]
  },
  {
   "cell_type": "code",
   "execution_count": 7,
   "metadata": {
    "slideshow": {
     "slide_type": "slide"
    }
   },
   "outputs": [
    {
     "name": "stdout",
     "output_type": "stream",
     "text": [
      "Line 1\n",
      "Line 2\n",
      "Line 3\n"
     ]
    }
   ],
   "source": [
    "!head -n 3 lines "
   ]
  },
  {
   "cell_type": "code",
   "execution_count": 8,
   "metadata": {
    "slideshow": {
     "slide_type": "fragment"
    }
   },
   "outputs": [
    {
     "name": "stdout",
     "output_type": "stream",
     "text": [
      "Line 1\n",
      "Line 2\n",
      "Line 3\n"
     ]
    }
   ],
   "source": [
    "!sed '4,10d' lines \n",
    "# sed 'm,nd' file"
   ]
  },
  {
   "cell_type": "code",
   "execution_count": 9,
   "metadata": {
    "slideshow": {
     "slide_type": "fragment"
    }
   },
   "outputs": [
    {
     "name": "stdout",
     "output_type": "stream",
     "text": [
      "Line 8\n",
      "Line 9\n",
      "Line 10\n"
     ]
    }
   ],
   "source": [
    "!tail -n 3 lines"
   ]
  },
  {
   "cell_type": "markdown",
   "metadata": {
    "extensions": {
     "jupyter_dashboards": {
      "version": 1,
      "views": {
       "grid_default": {
        "col": 0,
        "height": 4,
        "hidden": false,
        "row": 82,
        "width": 12
       },
       "report_default": {
        "hidden": false
       }
      }
     }
    },
    "slideshow": {
     "slide_type": "slide"
    }
   },
   "source": [
    "### Get part of file using pattern matching (grep)"
   ]
  },
  {
   "cell_type": "code",
   "execution_count": 10,
   "metadata": {
    "extensions": {
     "jupyter_dashboards": {
      "version": 1,
      "views": {
       "grid_default": {
        "col": 0,
        "height": 11,
        "hidden": false,
        "row": 86,
        "width": 12
       },
       "report_default": {
        "hidden": false
       }
      }
     }
    },
    "scrolled": true,
    "slideshow": {
     "slide_type": "slide"
    }
   },
   "outputs": [
    {
     "name": "stdout",
     "output_type": "stream",
     "text": [
      "CHAPTER I Down the Rabbit-Hole\n",
      "CHAPTER II The Pool of Tears\n",
      "CHAPTER III A Caucus-Race and a Long Tale\n",
      "CHAPTER IV. The Rabbit Sends in a Little Bill\n",
      "CHAPTER V Advice from a Caterpillar\n",
      "CHAPTER VI Pig and Pepper\n",
      "CHAPTER VII A Mad Tea-Party\n",
      "CHAPTER VIII The Queen's Croquet-Ground\n",
      "CHAPTER IX The Mock Turtle's Story\n",
      "CHAPTER X The Lobster Quadrille\n",
      "CHAPTER XI Who Stole the Tarts?\n",
      "CHAPTER XII Alice's Evidence\n",
      "\n",
      "CHAPTER II The Pool of Tears\n",
      "CHAPTER IV. The Rabbit Sends in a Little Bill\n",
      "CHAPTER VIII The Queen's Croquet-Ground\n",
      "CHAPTER IX The Mock Turtle's Story\n",
      "CHAPTER X The Lobster Quadrille\n"
     ]
    }
   ],
   "source": [
    "!grep -i chapter alice.txt # case insensitive\n",
    "\n",
    "!echo\n",
    "!grep -E '^CHAPTER .* The' alice.txt \n",
    "# regular expression"
   ]
  },
  {
   "cell_type": "markdown",
   "metadata": {
    "extensions": {
     "jupyter_dashboards": {
      "version": 1,
      "views": {
       "grid_default": {
        "col": 0,
        "height": 4,
        "hidden": false,
        "row": 97,
        "width": 12
       },
       "report_default": {
        "hidden": false
       }
      }
     }
    },
    "slideshow": {
     "slide_type": "slide"
    }
   },
   "source": [
    "### Replacing and Deleting Values: tr"
   ]
  },
  {
   "cell_type": "code",
   "execution_count": 11,
   "metadata": {
    "extensions": {
     "jupyter_dashboards": {
      "version": 1,
      "views": {
       "grid_default": {
        "col": 0,
        "height": 4,
        "hidden": false,
        "row": 105,
        "width": 12
       },
       "report_default": {
        "hidden": false
       }
      }
     }
    },
    "slideshow": {
     "slide_type": "slide"
    }
   },
   "outputs": [
    {
     "name": "stdout",
     "output_type": "stream",
     "text": [
      "hello_world!\n",
      "hello_world?\n",
      "HELLO WORLD!\n"
     ]
    }
   ],
   "source": [
    "!echo 'hello world!' | tr ' ' '_'\n",
    "\n",
    "!echo 'hello world!' | tr ' !' '_?'\n",
    "\n",
    "!echo 'hello world!' | tr '[a-z]' '[A-Z]'"
   ]
  },
  {
   "cell_type": "markdown",
   "metadata": {
    "extensions": {
     "jupyter_dashboards": {
      "version": 1,
      "views": {
       "grid_default": {
        "col": 0,
        "height": 4,
        "hidden": false,
        "row": 109,
        "width": 12
       },
       "report_default": {
        "hidden": false
       }
      }
     }
    },
    "slideshow": {
     "slide_type": "slide"
    }
   },
   "source": [
    "## 3. Numpy and Pandas Review "
   ]
  },
  {
   "cell_type": "code",
   "execution_count": 12,
   "metadata": {},
   "outputs": [
    {
     "name": "stdout",
     "output_type": "stream",
     "text": [
      "# packages in environment at /home/buzgalbraith/miniconda3/envs/advpy:\n",
      "#\n",
      "# Name                    Version                   Build  Channel\n",
      "_libgcc_mutex             0.1                        main  \n",
      "_openmp_mutex             5.1                       1_gnu  \n",
      "anyio                     3.5.0            py38h06a4308_0  \n",
      "argon2-cffi               21.3.0             pyhd3eb1b0_0  \n",
      "argon2-cffi-bindings      21.2.0           py38h7f8727e_0  \n",
      "asttokens                 2.0.5              pyhd3eb1b0_0  \n",
      "attrs                     22.1.0           py38h06a4308_0  \n",
      "babel                     2.11.0           py38h06a4308_0  \n",
      "backcall                  0.2.0              pyhd3eb1b0_0  \n",
      "beautifulsoup4            4.11.1           py38h06a4308_0  \n",
      "blas                      1.0                         mkl  \n",
      "bleach                    4.1.0              pyhd3eb1b0_0  \n",
      "bottleneck                1.3.5            py38h7deecbd_0  \n",
      "brotlipy                  0.7.0           py38h27cfd23_1003  \n",
      "ca-certificates           2023.01.10           h06a4308_0  \n",
      "certifi                   2022.12.7        py38h06a4308_0  \n",
      "cffi                      1.15.1           py38h5eee18b_3  \n",
      "charset-normalizer        2.0.4              pyhd3eb1b0_0  \n",
      "comm                      0.1.2            py38h06a4308_0  \n",
      "cryptography              38.0.4           py38h9ce1e76_0  \n",
      "dbus                      1.13.18              hb2f20db_0  \n",
      "debugpy                   1.5.1            py38h295c915_0  \n",
      "decorator                 5.1.1              pyhd3eb1b0_0  \n",
      "defusedxml                0.7.1              pyhd3eb1b0_0  \n",
      "entrypoints               0.4              py38h06a4308_0  \n",
      "executing                 0.8.3              pyhd3eb1b0_0  \n",
      "expat                     2.4.9                h6a678d5_0  \n",
      "flit-core                 3.6.0              pyhd3eb1b0_0  \n",
      "fontconfig                2.14.1               h52c9d5c_1  \n",
      "freetype                  2.12.1               h4a9f257_0  \n",
      "giflib                    5.2.1                h5eee18b_1  \n",
      "glib                      2.69.1               he621ea3_2  \n",
      "gst-plugins-base          1.14.0               h8213a91_2  \n",
      "gstreamer                 1.14.0               h28cd5cc_2  \n",
      "icu                       58.2                 he6710b0_3  \n",
      "idna                      3.4              py38h06a4308_0  \n",
      "importlib-metadata        4.11.3           py38h06a4308_0  \n",
      "importlib_resources       5.2.0              pyhd3eb1b0_1  \n",
      "intel-openmp              2021.4.0          h06a4308_3561  \n",
      "ipykernel                 6.19.2           py38hb070fc8_0  \n",
      "ipython                   8.8.0            py38h06a4308_0  \n",
      "ipython_genutils          0.2.0              pyhd3eb1b0_1  \n",
      "ipywidgets                7.6.5              pyhd3eb1b0_1  \n",
      "jedi                      0.18.1           py38h06a4308_1  \n",
      "jinja2                    3.1.2            py38h06a4308_0  \n",
      "jpeg                      9e                   h7f8727e_0  \n",
      "json5                     0.9.6              pyhd3eb1b0_0  \n",
      "jsonschema                4.16.0           py38h06a4308_0  \n",
      "jupyter                   1.0.0            py38h06a4308_8  \n",
      "jupyter_client            7.4.8            py38h06a4308_0  \n",
      "jupyter_console           6.4.4            py38h06a4308_0  \n",
      "jupyter_core              5.1.1            py38h06a4308_0  \n",
      "jupyter_server            1.23.4           py38h06a4308_0  \n",
      "jupyterlab                3.5.2            py38h06a4308_0  \n",
      "jupyterlab_pygments       0.1.2                      py_0  \n",
      "jupyterlab_server         2.16.5           py38h06a4308_0  \n",
      "jupyterlab_widgets        1.0.0              pyhd3eb1b0_1  \n",
      "krb5                      1.19.4               h568e23c_0  \n",
      "ld_impl_linux-64          2.38                 h1181459_1  \n",
      "lerc                      3.0                  h295c915_0  \n",
      "libclang                  10.0.1          default_hb85057a_2  \n",
      "libdeflate                1.8                  h7f8727e_5  \n",
      "libedit                   3.1.20221030         h5eee18b_0  \n",
      "libevent                  2.1.12               h8f2d780_0  \n",
      "libffi                    3.4.2                h6a678d5_6  \n",
      "libgcc-ng                 11.2.0               h1234567_1  \n",
      "libgomp                   11.2.0               h1234567_1  \n",
      "libllvm10                 10.0.1               hbcb73fb_5  \n",
      "libpng                    1.6.37               hbc83047_0  \n",
      "libpq                     12.9                 h16c4e8d_3  \n",
      "libsodium                 1.0.18               h7b6447c_0  \n",
      "libstdcxx-ng              11.2.0               h1234567_1  \n",
      "libtiff                   4.5.0                hecacb30_0  \n",
      "libuuid                   1.41.5               h5eee18b_0  \n",
      "libwebp                   1.2.4                h11a3e52_0  \n",
      "libwebp-base              1.2.4                h5eee18b_0  \n",
      "libxcb                    1.15                 h7f8727e_0  \n",
      "libxkbcommon              1.0.1                hfa300c1_0  \n",
      "libxml2                   2.9.14               h74e7548_0  \n",
      "libxslt                   1.1.35               h4e12654_0  \n",
      "lxml                      4.9.1            py38h1edc446_0  \n",
      "lz4-c                     1.9.4                h6a678d5_0  \n",
      "markupsafe                2.1.1            py38h7f8727e_0  \n",
      "matplotlib-inline         0.1.6            py38h06a4308_0  \n",
      "mistune                   0.8.4           py38h7b6447c_1000  \n",
      "mkl                       2021.4.0           h06a4308_640  \n",
      "mkl-service               2.4.0            py38h7f8727e_0  \n",
      "mkl_fft                   1.3.1            py38hd3c417c_0  \n",
      "mkl_random                1.2.2            py38h51133e4_0  \n",
      "nbclassic                 0.4.8            py38h06a4308_0  \n",
      "nbclient                  0.5.13           py38h06a4308_0  \n",
      "nbconvert                 6.5.4            py38h06a4308_0  \n",
      "nbformat                  5.7.0            py38h06a4308_0  \n",
      "ncurses                   6.4                  h6a678d5_0  \n",
      "nest-asyncio              1.5.6            py38h06a4308_0  \n",
      "notebook                  6.5.2            py38h06a4308_0  \n",
      "notebook-shim             0.2.2            py38h06a4308_0  \n",
      "nspr                      4.33                 h295c915_0  \n",
      "nss                       3.74                 h0370c37_0  \n",
      "numexpr                   2.8.4            py38he184ba9_0  \n",
      "numpy                     1.23.5           py38h14f4228_0  \n",
      "numpy-base                1.23.5           py38h31eccc5_0  \n",
      "openssl                   1.1.1s               h7f8727e_0  \n",
      "packaging                 22.0             py38h06a4308_0  \n",
      "pandas                    1.5.2            py38h417a72b_0  \n",
      "pandocfilters             1.5.0              pyhd3eb1b0_0  \n",
      "parso                     0.8.3              pyhd3eb1b0_0  \n",
      "pcre                      8.45                 h295c915_0  \n",
      "pexpect                   4.8.0              pyhd3eb1b0_3  \n",
      "pickleshare               0.7.5           pyhd3eb1b0_1003  \n",
      "pip                       22.3.1           py38h06a4308_0  \n",
      "pkgutil-resolve-name      1.3.10           py38h06a4308_0  \n",
      "platformdirs              2.5.2            py38h06a4308_0  \n",
      "ply                       3.11                     py38_0  \n",
      "prometheus_client         0.14.1           py38h06a4308_0  \n",
      "prompt-toolkit            3.0.36           py38h06a4308_0  \n",
      "prompt_toolkit            3.0.36               hd3eb1b0_0  \n",
      "psutil                    5.9.0            py38h5eee18b_0  \n",
      "ptyprocess                0.7.0              pyhd3eb1b0_2  \n",
      "pure_eval                 0.2.2              pyhd3eb1b0_0  \n",
      "pycparser                 2.21               pyhd3eb1b0_0  \n",
      "pygments                  2.11.2             pyhd3eb1b0_0  \n",
      "pyopenssl                 22.0.0             pyhd3eb1b0_0  \n",
      "pyqt                      5.15.7           py38h6a678d5_1  \n",
      "pyqt5-sip                 12.11.0          py38h6a678d5_1  \n",
      "pyrsistent                0.18.0           py38heee7806_0  \n",
      "pysocks                   1.7.1            py38h06a4308_0  \n",
      "python                    3.8.16               h7a1cb2a_2  \n",
      "python-dateutil           2.8.2              pyhd3eb1b0_0  \n",
      "python-fastjsonschema     2.16.2           py38h06a4308_0  \n",
      "pytz                      2022.7           py38h06a4308_0  \n",
      "pyzmq                     23.2.0           py38h6a678d5_0  \n",
      "qt-main                   5.15.2               h327a75a_7  \n",
      "qt-webengine              5.15.9               hd2b0992_4  \n",
      "qtconsole                 5.4.0            py38h06a4308_0  \n",
      "qtpy                      2.2.0            py38h06a4308_0  \n",
      "qtwebkit                  5.212                h4eab89a_4  \n",
      "readline                  8.2                  h5eee18b_0  \n",
      "requests                  2.28.1           py38h06a4308_0  \n",
      "send2trash                1.8.0              pyhd3eb1b0_1  \n",
      "setuptools                65.6.3           py38h06a4308_0  \n",
      "sip                       6.6.2            py38h6a678d5_0  \n",
      "six                       1.16.0             pyhd3eb1b0_1  \n",
      "sniffio                   1.2.0            py38h06a4308_1  \n",
      "soupsieve                 2.3.2.post1      py38h06a4308_0  \n",
      "sqlite                    3.40.1               h5082296_0  \n",
      "stack_data                0.2.0              pyhd3eb1b0_0  \n",
      "terminado                 0.17.1           py38h06a4308_0  \n",
      "tinycss2                  1.2.1            py38h06a4308_0  \n",
      "tk                        8.6.12               h1ccaba5_0  \n",
      "toml                      0.10.2             pyhd3eb1b0_0  \n",
      "tomli                     2.0.1            py38h06a4308_0  \n",
      "tornado                   6.2              py38h5eee18b_0  \n",
      "traitlets                 5.7.1            py38h06a4308_0  \n",
      "typing-extensions         4.4.0            py38h06a4308_0  \n",
      "typing_extensions         4.4.0            py38h06a4308_0  \n",
      "urllib3                   1.26.14          py38h06a4308_0  \n",
      "wcwidth                   0.2.5              pyhd3eb1b0_0  \n",
      "webencodings              0.5.1                    py38_1  \n",
      "websocket-client          0.58.0           py38h06a4308_4  \n",
      "wheel                     0.37.1             pyhd3eb1b0_0  \n",
      "widgetsnbextension        3.5.2            py38h06a4308_0  \n",
      "xz                        5.2.10               h5eee18b_1  \n",
      "zeromq                    4.3.4                h2531618_0  \n",
      "zipp                      3.11.0           py38h06a4308_0  \n",
      "zlib                      1.2.13               h5eee18b_0  \n",
      "zstd                      1.5.2                ha4553b6_0  \n"
     ]
    }
   ],
   "source": [
    "!conda list "
   ]
  },
  {
   "cell_type": "code",
   "execution_count": 13,
   "metadata": {
    "extensions": {
     "jupyter_dashboards": {
      "version": 1,
      "views": {
       "grid_default": {
        "hidden": true
       },
       "report_default": {
        "hidden": true
       }
      }
     }
    },
    "slideshow": {
     "slide_type": "slide"
    }
   },
   "outputs": [],
   "source": [
    "import numpy as np\n",
    "import pandas as pd"
   ]
  },
  {
   "cell_type": "code",
   "execution_count": 14,
   "metadata": {
    "extensions": {
     "jupyter_dashboards": {
      "version": 1,
      "views": {
       "grid_default": {
        "col": 0,
        "height": 5,
        "hidden": false,
        "row": 113,
        "width": 12
       },
       "report_default": {
        "hidden": false
       }
      }
     }
    },
    "slideshow": {
     "slide_type": "slide"
    }
   },
   "outputs": [
    {
     "name": "stdout",
     "output_type": "stream",
     "text": [
      "Shape of the array: (2, 3)\n",
      "Total number of elements: 6\n",
      "Dtype: int64\n",
      "Size in bytes: 8\n",
      "Buffer: <memory at 0x7f57d2d8e930>\n"
     ]
    }
   ],
   "source": [
    "a = np.array([[1,2,3],[4,5,6]])\n",
    "#a tuple of integers indicating the shape of the array \n",
    "# in each dimension\n",
    "print('Shape of the array:', a.shape) \n",
    "#the total number of elements of the array\n",
    "print('Total number of elements:', a.size) \n",
    "# an object describing the type of the elements in the array\n",
    "print('Dtype:',a.dtype) \n",
    "print('Size in bytes:',a.itemsize) \n",
    "#the size in bytes of each element of the array\n",
    "print('Buffer:',a.data) \n",
    "#buffer pointing to the start of array"
   ]
  },
  {
   "cell_type": "code",
   "execution_count": 15,
   "metadata": {},
   "outputs": [
    {
     "name": "stdout",
     "output_type": "stream",
     "text": [
      "(3, 1, 3)\n"
     ]
    }
   ],
   "source": [
    "## Example of 3-dimensional array in numpy\n",
    "b = np.array([[[1,2,3]],[[4,5,6]],[[7,8,9]]])\n",
    "print(b.shape)\n",
    "## Note that the shape of the array has 3 elements instead of 2"
   ]
  },
  {
   "cell_type": "code",
   "execution_count": 16,
   "metadata": {
    "extensions": {
     "jupyter_dashboards": {
      "version": 1,
      "views": {
       "grid_default": {
        "col": 0,
        "height": 10,
        "hidden": false,
        "row": 118,
        "width": 12
       },
       "report_default": {
        "hidden": false
       }
      }
     }
    },
    "slideshow": {
     "slide_type": "slide"
    }
   },
   "outputs": [
    {
     "name": "stdout",
     "output_type": "stream",
     "text": [
      "[[1. 1. 1.]\n",
      " [1. 1. 1.]\n",
      " [1. 1. 1.]]\n",
      "[[0. 0. 0.]\n",
      " [0. 0. 0.]\n",
      " [0. 0. 0.]]\n",
      "[[7 7 7]\n",
      " [7 7 7]\n",
      " [7 7 7]]\n",
      "[[0.22694455 0.57081738 0.72117963]\n",
      " [0.04586928 0.73555101 0.324198  ]\n",
      " [0.53836432 0.57304376 0.32526281]]\n"
     ]
    }
   ],
   "source": [
    "print(np.ones((3, 3))) # Create an array of all zeros\n",
    "print(np.zeros((3, 3))) # Create an array of all ones\n",
    "print(np.full((3,3), 7)) #Create a constant array\n",
    "print(np.random.rand(3, 3)) # Create an array filled with random values"
   ]
  },
  {
   "cell_type": "code",
   "execution_count": 17,
   "metadata": {
    "extensions": {
     "jupyter_dashboards": {
      "version": 1,
      "views": {
       "grid_default": {
        "col": 0,
        "height": 4,
        "hidden": false,
        "row": 128,
        "width": 12
       },
       "report_default": {
        "hidden": false
       }
      }
     }
    },
    "slideshow": {
     "slide_type": "slide"
    }
   },
   "outputs": [
    {
     "name": "stdout",
     "output_type": "stream",
     "text": [
      "[[5 6]] \n",
      "\n",
      "2\n"
     ]
    }
   ],
   "source": [
    "#Array indexing:\n",
    "a = np.array([[1, 2, 3], [4, 5, 6]])\n",
    "print(a[1:2, 1:],'\\n')\n",
    "print(a[0, 1])"
   ]
  },
  {
   "cell_type": "code",
   "execution_count": 18,
   "metadata": {
    "extensions": {
     "jupyter_dashboards": {
      "version": 1,
      "views": {
       "grid_default": {
        "col": 0,
        "height": 4,
        "hidden": false,
        "row": 132,
        "width": 12
       },
       "report_default": {
        "hidden": false
       }
      }
     }
    },
    "slideshow": {
     "slide_type": "slide"
    }
   },
   "outputs": [
    {
     "name": "stdout",
     "output_type": "stream",
     "text": [
      "[[0 1]\n",
      " [2 3]]\n",
      "[[0 2]\n",
      " [1 3]]\n"
     ]
    }
   ],
   "source": [
    "x = np.arange(4).reshape((2,2))\n",
    "print(x)\n",
    "print(np.transpose(x)) #transposes matrix"
   ]
  },
  {
   "cell_type": "code",
   "execution_count": 19,
   "metadata": {
    "extensions": {
     "jupyter_dashboards": {
      "version": 1,
      "views": {
       "grid_default": {
        "col": 0,
        "height": 4,
        "hidden": false,
        "row": 136,
        "width": 12
       },
       "report_default": {
        "hidden": false
       }
      }
     }
    },
    "slideshow": {
     "slide_type": "slide"
    }
   },
   "outputs": [
    {
     "name": "stdout",
     "output_type": "stream",
     "text": [
      "b: [ 0  5  2  3  4  5  6  7  8  9 10 11]\n",
      "b: [ 0 -2  2  3  4  5  6  7  8  9 10 11]\n",
      "c: [ 0  5  2  3  4  5  6  7  8  9 10 11]\n"
     ]
    }
   ],
   "source": [
    "#Assignment operation\n",
    "a = np.arange(12)\n",
    "b = a\n",
    "a[1] =5\n",
    "print('b:',b)\n",
    "#Creates a copy of the array\n",
    "c = np.copy(b)\n",
    "b[1] = -2;\n",
    "print('b:',b)\n",
    "print('c:',c)"
   ]
  },
  {
   "cell_type": "code",
   "execution_count": 20,
   "metadata": {
    "extensions": {
     "jupyter_dashboards": {
      "version": 1,
      "views": {
       "grid_default": {
        "col": 0,
        "height": 5,
        "hidden": false,
        "row": 140,
        "width": 12
       },
       "report_default": {
        "hidden": false
       }
      }
     }
    },
    "slideshow": {
     "slide_type": "slide"
    }
   },
   "outputs": [
    {
     "name": "stdout",
     "output_type": "stream",
     "text": [
      "a    5\n",
      "b    1\n",
      "c    2\n",
      "d    3\n",
      "e    7\n",
      "dtype: int64\n"
     ]
    }
   ],
   "source": [
    "index = ['a','b','c','d','e']\n",
    "series = pd.Series(np.random.randint(0,10,5), index=index) \n",
    "# One-dimensional ndarray with axis labels \n",
    "# (including time series)\n",
    "print(series)"
   ]
  },
  {
   "cell_type": "code",
   "execution_count": 21,
   "metadata": {
    "extensions": {
     "jupyter_dashboards": {
      "version": 1,
      "views": {
       "grid_default": {
        "col": 0,
        "height": 6,
        "hidden": false,
        "row": 145,
        "width": 12
       },
       "report_default": {
        "hidden": false
       }
      }
     }
    },
    "slideshow": {
     "slide_type": "slide"
    }
   },
   "outputs": [
    {
     "name": "stdout",
     "output_type": "stream",
     "text": [
      "a    5\n",
      "c    2\n",
      "dtype: int64 \n",
      "\n",
      "b    1\n",
      "c    2\n",
      "d    3\n",
      "e    7\n",
      "dtype: int64\n"
     ]
    }
   ],
   "source": [
    "print(series[['a', 'c']],'\\n') #how to access\n",
    "#Slicing\n",
    "print(series['b':'e'])"
   ]
  },
  {
   "cell_type": "code",
   "execution_count": 22,
   "metadata": {},
   "outputs": [
    {
     "name": "stdout",
     "output_type": "stream",
     "text": [
      "   Name  Age\n",
      "0   tom   10\n",
      "1  nick   15\n",
      "2  juli   14\n"
     ]
    }
   ],
   "source": [
    "data = [['tom', 10], ['nick', 15], ['juli', 14]] \n",
    "df = pd.DataFrame(data, columns = ['Name', 'Age'])\n",
    "print(df)"
   ]
  },
  {
   "cell_type": "code",
   "execution_count": 23,
   "metadata": {},
   "outputs": [
    {
     "name": "stdout",
     "output_type": "stream",
     "text": [
      "   Year  Month  DayofMonth  DayOfWeek  DepTime  CRSDepTime  ArrTime  \\\n",
      "0  2007     11           2          5     1534        1540   1654.0   \n",
      "1  2007      9          11          2     1822        1823   2258.0   \n",
      "2  2007      9          24          1      711         715    830.0   \n",
      "3  2007     11           5          1     2243        2250    549.0   \n",
      "4  2007      7           8          7     1656        1700   1832.0   \n",
      "\n",
      "   CRSArrTime UniqueCarrier  FlightNum  ... TaxiIn  TaxiOut  Cancelled  \\\n",
      "0        1710            XE       7770  ...     12       13          0   \n",
      "1        2257            US        596  ...      7       22          0   \n",
      "2         844            US       1243  ...      3       10          0   \n",
      "3         556            NW        222  ...      6       19          0   \n",
      "4        1840            XE       2607  ...      7       16          0   \n",
      "\n",
      "   CancellationCode  Diverted  CarrierDelay WeatherDelay NASDelay  \\\n",
      "0               NaN         0             0            0        0   \n",
      "1               NaN         0             0            0        0   \n",
      "2               NaN         0             0            0        0   \n",
      "3               NaN         0             0            0        0   \n",
      "4               NaN         0             0            0        0   \n",
      "\n",
      "   SecurityDelay  LateAircraftDelay  \n",
      "0              0                  0  \n",
      "1              0                  0  \n",
      "2              0                  0  \n",
      "3              0                  0  \n",
      "4              0                  0  \n",
      "\n",
      "[5 rows x 29 columns]\n",
      "[2007 11 2 5 1534 1540 1654.0 1710 'XE' 7770 'N12569' 80.0 90 55.0 -16.0\n",
      " -6 'OAK' 'LAX' 337 12 13 0 nan 0 0 0 0 0 0]\n"
     ]
    }
   ],
   "source": [
    "df = pd.read_csv('flightdelays_with_header.csv')\n",
    "print(df.head())\n",
    "arr = np.array(df)\n",
    "print(arr[0])"
   ]
  },
  {
   "cell_type": "code",
   "execution_count": 24,
   "metadata": {},
   "outputs": [
    {
     "name": "stdout",
     "output_type": "stream",
     "text": [
      "0.21338319778442383\n",
      "0.003265857696533203\n"
     ]
    }
   ],
   "source": [
    "!python test.py"
   ]
  },
  {
   "cell_type": "markdown",
   "metadata": {
    "extensions": {
     "jupyter_dashboards": {
      "version": 1,
      "views": {
       "grid_default": {
        "col": 0,
        "height": 8,
        "hidden": false,
        "row": 162,
        "width": 12
       },
       "report_default": {
        "hidden": false
       }
      }
     }
    },
    "slideshow": {
     "slide_type": "slide"
    }
   },
   "source": [
    "### References:\n",
    "[Introduction to shell script](https://data36.com/command-line-data-science-introduction-to-bash/)\n",
    "\n",
    "[Shebang for shell](https://scriptingosx.com/2017/10/on-the-shebang/)\n",
    "\n",
    "[More about scrubbing data o shell](https://www.datascienceatthecommandline.com/chapter-5-scrubbing-data.html)\n",
    "\n",
    "[Bash for pipelines](https://towardsdatascience.com/using-bash-for-data-pipelines-cf05af6ded6f)\n",
    "\n",
    "[More about scripts](https://www.macs.hw.ac.uk/~hwloidl/Courses/LinuxIntro/x961.html)\n",
    "[regular expression](https://en.wikipedia.org/wiki/Regular_expression)\n",
    "\n",
    "[Numpy tutorial](https://docs.scipy.org/doc/numpy/user/quickstart.html)"
   ]
  }
 ],
 "metadata": {
  "celltoolbar": "Slideshow",
  "extensions": {
   "jupyter_dashboards": {
    "activeView": "grid_default",
    "version": 1,
    "views": {
     "grid_default": {
      "cellMargin": 10,
      "defaultCellHeight": 20,
      "maxColumns": 12,
      "name": "grid",
      "type": "grid"
     },
     "report_default": {
      "name": "report",
      "type": "report"
     }
    }
   }
  },
  "kernelspec": {
   "display_name": "advpy",
   "language": "python",
   "name": "python3"
  },
  "language_info": {
   "codemirror_mode": {
    "name": "ipython",
    "version": 3
   },
   "file_extension": ".py",
   "mimetype": "text/x-python",
   "name": "python",
   "nbconvert_exporter": "python",
   "pygments_lexer": "ipython3",
   "version": "3.8.16 (default, Jan 17 2023, 22:25:28) [MSC v.1916 64 bit (AMD64)]"
  },
  "vscode": {
   "interpreter": {
    "hash": "650476a047e5bd0be98ca0f9613a47bcf5188bfe115ba55068ff3512c97a39fe"
   }
  }
 },
 "nbformat": 4,
 "nbformat_minor": 4
}
